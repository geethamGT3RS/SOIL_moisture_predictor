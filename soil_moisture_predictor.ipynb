{
  "nbformat": 4,
  "nbformat_minor": 0,
  "metadata": {
    "colab": {
      "provenance": [],
      "authorship_tag": "ABX9TyNm355gy43W8f+1c0a5nGNp",
      "include_colab_link": true
    },
    "kernelspec": {
      "name": "python3",
      "display_name": "Python 3"
    },
    "language_info": {
      "name": "python"
    }
  },
  "cells": [
    {
      "cell_type": "markdown",
      "metadata": {
        "id": "view-in-github",
        "colab_type": "text"
      },
      "source": [
        "<a href=\"https://colab.research.google.com/github/geethamGT3RS/moisture_minds/blob/main/soil_moisture_predictor.ipynb\" target=\"_parent\"><img src=\"https://colab.research.google.com/assets/colab-badge.svg\" alt=\"Open In Colab\"/></a>"
      ]
    },
    {
      "cell_type": "markdown",
      "source": [
        "# **MOISTURE MINDS** \n",
        "to predict data of next month using data of previous eight months. Code and its description below run this notebook in google colab or jupyter"
      ],
      "metadata": {
        "id": "oneDGD8rbuMh"
      }
    },
    {
      "cell_type": "markdown",
      "source": [
        "\n",
        "parameters given\n",
        "\n",
        "\n",
        "ttime - timestamp in yyyy-mm-dd format\n",
        "\n",
        "pm - particulate matter (1,2,3 is categorised into different sizes)\n",
        "\n",
        "am - atmospheric moisture\n",
        "\n",
        "sm - soil moisture\n",
        "\n",
        "st - soil temperature\n",
        "\n",
        "lum - luminosity\n",
        "\n",
        "temp - temperature\n",
        "\n",
        "humd - humidity\n",
        "\n",
        "pres - pressure"
      ],
      "metadata": {
        "id": "mlJSuhOFgTsA"
      }
    },
    {
      "cell_type": "code",
      "source": [
        "import pickle"
      ],
      "metadata": {
        "id": "XHs4qIr-EqH7"
      },
      "execution_count": 1,
      "outputs": []
    },
    {
      "cell_type": "code",
      "execution_count": 2,
      "metadata": {
        "id": "7yxDW3VPcyX9"
      },
      "outputs": [],
      "source": [
        "import pandas as pd\n",
        "import matplotlib.pyplot as plt\n",
        "import datetime\n",
        "import numpy as np"
      ]
    },
    {
      "cell_type": "markdown",
      "source": [
        "# **GETTING BOTH DATA-SETS**\n",
        "we need to set index as time for our data for simplicity"
      ],
      "metadata": {
        "id": "qHF7XZ7MnCkd"
      }
    },
    {
      "cell_type": "code",
      "source": [
        "url = 'https://raw.githubusercontent.com/chidaksh/CosmosocClub/master/Parsec2023/user1_data.csv'\n",
        "df1 = pd.read_csv(url,index_col= 0)"
      ],
      "metadata": {
        "id": "2eV6I9GRczTP"
      },
      "execution_count": 3,
      "outputs": []
    },
    {
      "cell_type": "code",
      "source": [
        "url = 'https://raw.githubusercontent.com/chidaksh/CosmosocClub/master/Parsec2023/user2_data.csv'\n",
        "df2 = pd.read_csv(url, index_col = 0)"
      ],
      "metadata": {
        "id": "PXEmR0ruc2UA"
      },
      "execution_count": 4,
      "outputs": []
    },
    {
      "cell_type": "code",
      "source": [
        "df1.index = pd.to_datetime(df1.index, format ='%Y-%m-%d %H:%M:%S')\n",
        "df2.index = pd.to_datetime(df2.index, format ='%Y-%m-%d %H:%M:%S')"
      ],
      "metadata": {
        "id": "oVWb-f6xc4ed"
      },
      "execution_count": 5,
      "outputs": []
    },
    {
      "cell_type": "code",
      "source": [
        "df1.describe()"
      ],
      "metadata": {
        "colab": {
          "base_uri": "https://localhost:8080/",
          "height": 300
        },
        "id": "V-lOqaSPkcen",
        "outputId": "d39d3ead-8a9e-401f-8516-ad8d0bc343e5"
      },
      "execution_count": 6,
      "outputs": [
        {
          "output_type": "execute_result",
          "data": {
            "text/plain": [
              "                pm1           pm2           pm3            am            sm  \\\n",
              "count  19341.000000  19341.000000  19341.000000  19341.000000  19341.000000   \n",
              "mean       1.610847      2.633942     60.393699      2.015076   4288.940593   \n",
              "std        1.058214      1.293359     28.344044      2.280934   2901.962556   \n",
              "min        0.550000      0.000000      0.000000      0.000000    286.000000   \n",
              "25%        0.550000      1.670000     38.550000      0.000000    541.000000   \n",
              "50%        1.110000      2.230000     51.400000      1.600000   6173.000000   \n",
              "75%        2.230000      3.350000     77.110000      3.200000   6667.000000   \n",
              "max        6.700000      6.700000    153.660000     18.390000   7937.000000   \n",
              "\n",
              "                 st           lum  \n",
              "count  19341.000000  19341.000000  \n",
              "mean      26.852714   2714.784292  \n",
              "std        1.163759   4231.353590  \n",
              "min       24.040000      0.000000  \n",
              "25%       26.110000      1.000000  \n",
              "50%       26.700000      6.000000  \n",
              "75%       27.390000   4675.000000  \n",
              "max       31.170000  19288.000000  "
            ],
            "text/html": [
              "\n",
              "  <div id=\"df-7a83529e-d3bf-4289-a1d4-650fa6b2bc60\">\n",
              "    <div class=\"colab-df-container\">\n",
              "      <div>\n",
              "<style scoped>\n",
              "    .dataframe tbody tr th:only-of-type {\n",
              "        vertical-align: middle;\n",
              "    }\n",
              "\n",
              "    .dataframe tbody tr th {\n",
              "        vertical-align: top;\n",
              "    }\n",
              "\n",
              "    .dataframe thead th {\n",
              "        text-align: right;\n",
              "    }\n",
              "</style>\n",
              "<table border=\"1\" class=\"dataframe\">\n",
              "  <thead>\n",
              "    <tr style=\"text-align: right;\">\n",
              "      <th></th>\n",
              "      <th>pm1</th>\n",
              "      <th>pm2</th>\n",
              "      <th>pm3</th>\n",
              "      <th>am</th>\n",
              "      <th>sm</th>\n",
              "      <th>st</th>\n",
              "      <th>lum</th>\n",
              "    </tr>\n",
              "  </thead>\n",
              "  <tbody>\n",
              "    <tr>\n",
              "      <th>count</th>\n",
              "      <td>19341.000000</td>\n",
              "      <td>19341.000000</td>\n",
              "      <td>19341.000000</td>\n",
              "      <td>19341.000000</td>\n",
              "      <td>19341.000000</td>\n",
              "      <td>19341.000000</td>\n",
              "      <td>19341.000000</td>\n",
              "    </tr>\n",
              "    <tr>\n",
              "      <th>mean</th>\n",
              "      <td>1.610847</td>\n",
              "      <td>2.633942</td>\n",
              "      <td>60.393699</td>\n",
              "      <td>2.015076</td>\n",
              "      <td>4288.940593</td>\n",
              "      <td>26.852714</td>\n",
              "      <td>2714.784292</td>\n",
              "    </tr>\n",
              "    <tr>\n",
              "      <th>std</th>\n",
              "      <td>1.058214</td>\n",
              "      <td>1.293359</td>\n",
              "      <td>28.344044</td>\n",
              "      <td>2.280934</td>\n",
              "      <td>2901.962556</td>\n",
              "      <td>1.163759</td>\n",
              "      <td>4231.353590</td>\n",
              "    </tr>\n",
              "    <tr>\n",
              "      <th>min</th>\n",
              "      <td>0.550000</td>\n",
              "      <td>0.000000</td>\n",
              "      <td>0.000000</td>\n",
              "      <td>0.000000</td>\n",
              "      <td>286.000000</td>\n",
              "      <td>24.040000</td>\n",
              "      <td>0.000000</td>\n",
              "    </tr>\n",
              "    <tr>\n",
              "      <th>25%</th>\n",
              "      <td>0.550000</td>\n",
              "      <td>1.670000</td>\n",
              "      <td>38.550000</td>\n",
              "      <td>0.000000</td>\n",
              "      <td>541.000000</td>\n",
              "      <td>26.110000</td>\n",
              "      <td>1.000000</td>\n",
              "    </tr>\n",
              "    <tr>\n",
              "      <th>50%</th>\n",
              "      <td>1.110000</td>\n",
              "      <td>2.230000</td>\n",
              "      <td>51.400000</td>\n",
              "      <td>1.600000</td>\n",
              "      <td>6173.000000</td>\n",
              "      <td>26.700000</td>\n",
              "      <td>6.000000</td>\n",
              "    </tr>\n",
              "    <tr>\n",
              "      <th>75%</th>\n",
              "      <td>2.230000</td>\n",
              "      <td>3.350000</td>\n",
              "      <td>77.110000</td>\n",
              "      <td>3.200000</td>\n",
              "      <td>6667.000000</td>\n",
              "      <td>27.390000</td>\n",
              "      <td>4675.000000</td>\n",
              "    </tr>\n",
              "    <tr>\n",
              "      <th>max</th>\n",
              "      <td>6.700000</td>\n",
              "      <td>6.700000</td>\n",
              "      <td>153.660000</td>\n",
              "      <td>18.390000</td>\n",
              "      <td>7937.000000</td>\n",
              "      <td>31.170000</td>\n",
              "      <td>19288.000000</td>\n",
              "    </tr>\n",
              "  </tbody>\n",
              "</table>\n",
              "</div>\n",
              "      <button class=\"colab-df-convert\" onclick=\"convertToInteractive('df-7a83529e-d3bf-4289-a1d4-650fa6b2bc60')\"\n",
              "              title=\"Convert this dataframe to an interactive table.\"\n",
              "              style=\"display:none;\">\n",
              "        \n",
              "  <svg xmlns=\"http://www.w3.org/2000/svg\" height=\"24px\"viewBox=\"0 0 24 24\"\n",
              "       width=\"24px\">\n",
              "    <path d=\"M0 0h24v24H0V0z\" fill=\"none\"/>\n",
              "    <path d=\"M18.56 5.44l.94 2.06.94-2.06 2.06-.94-2.06-.94-.94-2.06-.94 2.06-2.06.94zm-11 1L8.5 8.5l.94-2.06 2.06-.94-2.06-.94L8.5 2.5l-.94 2.06-2.06.94zm10 10l.94 2.06.94-2.06 2.06-.94-2.06-.94-.94-2.06-.94 2.06-2.06.94z\"/><path d=\"M17.41 7.96l-1.37-1.37c-.4-.4-.92-.59-1.43-.59-.52 0-1.04.2-1.43.59L10.3 9.45l-7.72 7.72c-.78.78-.78 2.05 0 2.83L4 21.41c.39.39.9.59 1.41.59.51 0 1.02-.2 1.41-.59l7.78-7.78 2.81-2.81c.8-.78.8-2.07 0-2.86zM5.41 20L4 18.59l7.72-7.72 1.47 1.35L5.41 20z\"/>\n",
              "  </svg>\n",
              "      </button>\n",
              "      \n",
              "  <style>\n",
              "    .colab-df-container {\n",
              "      display:flex;\n",
              "      flex-wrap:wrap;\n",
              "      gap: 12px;\n",
              "    }\n",
              "\n",
              "    .colab-df-convert {\n",
              "      background-color: #E8F0FE;\n",
              "      border: none;\n",
              "      border-radius: 50%;\n",
              "      cursor: pointer;\n",
              "      display: none;\n",
              "      fill: #1967D2;\n",
              "      height: 32px;\n",
              "      padding: 0 0 0 0;\n",
              "      width: 32px;\n",
              "    }\n",
              "\n",
              "    .colab-df-convert:hover {\n",
              "      background-color: #E2EBFA;\n",
              "      box-shadow: 0px 1px 2px rgba(60, 64, 67, 0.3), 0px 1px 3px 1px rgba(60, 64, 67, 0.15);\n",
              "      fill: #174EA6;\n",
              "    }\n",
              "\n",
              "    [theme=dark] .colab-df-convert {\n",
              "      background-color: #3B4455;\n",
              "      fill: #D2E3FC;\n",
              "    }\n",
              "\n",
              "    [theme=dark] .colab-df-convert:hover {\n",
              "      background-color: #434B5C;\n",
              "      box-shadow: 0px 1px 3px 1px rgba(0, 0, 0, 0.15);\n",
              "      filter: drop-shadow(0px 1px 2px rgba(0, 0, 0, 0.3));\n",
              "      fill: #FFFFFF;\n",
              "    }\n",
              "  </style>\n",
              "\n",
              "      <script>\n",
              "        const buttonEl =\n",
              "          document.querySelector('#df-7a83529e-d3bf-4289-a1d4-650fa6b2bc60 button.colab-df-convert');\n",
              "        buttonEl.style.display =\n",
              "          google.colab.kernel.accessAllowed ? 'block' : 'none';\n",
              "\n",
              "        async function convertToInteractive(key) {\n",
              "          const element = document.querySelector('#df-7a83529e-d3bf-4289-a1d4-650fa6b2bc60');\n",
              "          const dataTable =\n",
              "            await google.colab.kernel.invokeFunction('convertToInteractive',\n",
              "                                                     [key], {});\n",
              "          if (!dataTable) return;\n",
              "\n",
              "          const docLinkHtml = 'Like what you see? Visit the ' +\n",
              "            '<a target=\"_blank\" href=https://colab.research.google.com/notebooks/data_table.ipynb>data table notebook</a>'\n",
              "            + ' to learn more about interactive tables.';\n",
              "          element.innerHTML = '';\n",
              "          dataTable['output_type'] = 'display_data';\n",
              "          await google.colab.output.renderOutput(dataTable, element);\n",
              "          const docLink = document.createElement('div');\n",
              "          docLink.innerHTML = docLinkHtml;\n",
              "          element.appendChild(docLink);\n",
              "        }\n",
              "      </script>\n",
              "    </div>\n",
              "  </div>\n",
              "  "
            ]
          },
          "metadata": {},
          "execution_count": 6
        }
      ]
    },
    {
      "cell_type": "markdown",
      "source": [
        "# **MAKING DATA SET READY FOR TRAINING**\n",
        "**SINCE WE HAVE MANY SAMPLES PER DAY AND ARE AT IRREGULAR TIME INTERVALS IT IS BETTER TO TAKE AVERAGE OF EVERY VALUE PER DAY WHICH REDUCES OUR HUGE DATA SET TO SIZE OF 235 SAMPLES. SO THAT WE CALUCLATE SOIL MOISTURE FOR MARCH.**"
      ],
      "metadata": {
        "id": "WTk6RR12nl5X"
      }
    },
    {
      "cell_type": "markdown",
      "source": [
        "using resample function to get average soil moisture per day"
      ],
      "metadata": {
        "id": "Z_l-3RGRdKrz"
      }
    },
    {
      "cell_type": "code",
      "source": [
        "df1_avg = df1.resample(\"d\").mean()\n",
        "df2_avg = df2.resample(\"d\").mean()"
      ],
      "metadata": {
        "id": "JM6Ty0upjz9p"
      },
      "execution_count": 7,
      "outputs": []
    },
    {
      "cell_type": "code",
      "source": [
        "df1_avg.plot(y='sm',kind='line')\n",
        "plt.show()\n",
        "df2_avg.plot(y='sm',kind='line')\n",
        "plt.show()"
      ],
      "metadata": {
        "colab": {
          "base_uri": "https://localhost:8080/",
          "height": 567
        },
        "id": "cj-QLx9godmJ",
        "outputId": "b64c869b-90e9-45ae-8813-51684e220fc7"
      },
      "execution_count": 8,
      "outputs": [
        {
          "output_type": "display_data",
          "data": {
            "text/plain": [
              "<Figure size 432x288 with 1 Axes>"
            ],
            "image/png": "[encoded data removed]"
          },
          "metadata": {
            "needs_background": "light"
          }
        },
        {
          "output_type": "display_data",
          "data": {
            "text/plain": [
              "<Figure size 432x288 with 1 Axes>"
            ],
            "image/png": "[encoded data removed]"
          },
          "metadata": {
            "needs_background": "light"
          }
        }
      ]
    },
    {
      "cell_type": "markdown",
      "source": [
        "**Here we see that some data is missing in january** "
      ],
      "metadata": {
        "id": "s90L_D_ydZsq"
      }
    },
    {
      "cell_type": "code",
      "source": [
        "df1_avg[170:190]"
      ],
      "metadata": {
        "colab": {
          "base_uri": "https://localhost:8080/",
          "height": 708
        },
        "id": "UuWRiufUO_gL",
        "outputId": "9ab33481-680e-4b3c-b997-3a8f97999ce3"
      },
      "execution_count": 9,
      "outputs": [
        {
          "output_type": "execute_result",
          "data": {
            "text/plain": [
              "                 pm1       pm2        pm3        am          sm         st  \\\n",
              "ttime                                                                        \n",
              "2023-01-04  1.013448  1.447931  33.520000  1.131034  424.448276  26.791034   \n",
              "2023-01-05  1.003793  1.418966  33.520000  1.558621  422.068966  26.387586   \n",
              "2023-01-06  1.044667  1.390000  33.492000  1.920000  418.950000  26.188500   \n",
              "2023-01-07  1.012609  1.450870  33.520000  1.460870  415.086957  26.085652   \n",
              "2023-01-08       NaN       NaN        NaN       NaN         NaN        NaN   \n",
              "2023-01-09       NaN       NaN        NaN       NaN         NaN        NaN   \n",
              "2023-01-10       NaN       NaN        NaN       NaN         NaN        NaN   \n",
              "2023-01-11       NaN       NaN        NaN       NaN         NaN        NaN   \n",
              "2023-01-12       NaN       NaN        NaN       NaN         NaN        NaN   \n",
              "2023-01-13       NaN       NaN        NaN       NaN         NaN        NaN   \n",
              "2023-01-14       NaN       NaN        NaN       NaN         NaN        NaN   \n",
              "2023-01-15       NaN       NaN        NaN       NaN         NaN        NaN   \n",
              "2023-01-16       NaN       NaN        NaN       NaN         NaN        NaN   \n",
              "2023-01-17       NaN       NaN        NaN       NaN         NaN        NaN   \n",
              "2023-01-18       NaN       NaN        NaN       NaN         NaN        NaN   \n",
              "2023-01-19       NaN       NaN        NaN       NaN         NaN        NaN   \n",
              "2023-01-20       NaN       NaN        NaN       NaN         NaN        NaN   \n",
              "2023-01-21  0.985556  1.338148  31.248519  1.096296  331.666667  26.555556   \n",
              "2023-01-22  0.993774  1.310755  31.934528  1.116981  329.528302  26.482075   \n",
              "2023-01-23  0.998000  1.323818  32.063818  1.076364  328.800000  26.580727   \n",
              "\n",
              "                    lum  \n",
              "ttime                    \n",
              "2023-01-04  2257.706897  \n",
              "2023-01-05  2162.793103  \n",
              "2023-01-06  2238.133333  \n",
              "2023-01-07  1798.608696  \n",
              "2023-01-08          NaN  \n",
              "2023-01-09          NaN  \n",
              "2023-01-10          NaN  \n",
              "2023-01-11          NaN  \n",
              "2023-01-12          NaN  \n",
              "2023-01-13          NaN  \n",
              "2023-01-14          NaN  \n",
              "2023-01-15          NaN  \n",
              "2023-01-16          NaN  \n",
              "2023-01-17          NaN  \n",
              "2023-01-18          NaN  \n",
              "2023-01-19          NaN  \n",
              "2023-01-20          NaN  \n",
              "2023-01-21  2831.518519  \n",
              "2023-01-22  1981.528302  \n",
              "2023-01-23  2248.200000  "
            ],
            "text/html": [
              "\n",
              "  <div id=\"df-863eed14-e9a3-4ba0-847c-cf2001ecd603\">\n",
              "    <div class=\"colab-df-container\">\n",
              "      <div>\n",
              "<style scoped>\n",
              "    .dataframe tbody tr th:only-of-type {\n",
              "        vertical-align: middle;\n",
              "    }\n",
              "\n",
              "    .dataframe tbody tr th {\n",
              "        vertical-align: top;\n",
              "    }\n",
              "\n",
              "    .dataframe thead th {\n",
              "        text-align: right;\n",
              "    }\n",
              "</style>\n",
              "<table border=\"1\" class=\"dataframe\">\n",
              "  <thead>\n",
              "    <tr style=\"text-align: right;\">\n",
              "      <th></th>\n",
              "      <th>pm1</th>\n",
              "      <th>pm2</th>\n",
              "      <th>pm3</th>\n",
              "      <th>am</th>\n",
              "      <th>sm</th>\n",
              "      <th>st</th>\n",
              "      <th>lum</th>\n",
              "    </tr>\n",
              "    <tr>\n",
              "      <th>ttime</th>\n",
              "      <th></th>\n",
              "      <th></th>\n",
              "      <th></th>\n",
              "      <th></th>\n",
              "      <th></th>\n",
              "      <th></th>\n",
              "      <th></th>\n",
              "    </tr>\n",
              "  </thead>\n",
              "  <tbody>\n",
              "    <tr>\n",
              "      <th>2023-01-04</th>\n",
              "      <td>1.013448</td>\n",
              "      <td>1.447931</td>\n",
              "      <td>33.520000</td>\n",
              "      <td>1.131034</td>\n",
              "      <td>424.448276</td>\n",
              "      <td>26.791034</td>\n",
              "      <td>2257.706897</td>\n",
              "    </tr>\n",
              "    <tr>\n",
              "      <th>2023-01-05</th>\n",
              "      <td>1.003793</td>\n",
              "      <td>1.418966</td>\n",
              "      <td>33.520000</td>\n",
              "      <td>1.558621</td>\n",
              "      <td>422.068966</td>\n",
              "      <td>26.387586</td>\n",
              "      <td>2162.793103</td>\n",
              "    </tr>\n",
              "    <tr>\n",
              "      <th>2023-01-06</th>\n",
              "      <td>1.044667</td>\n",
              "      <td>1.390000</td>\n",
              "      <td>33.492000</td>\n",
              "      <td>1.920000</td>\n",
              "      <td>418.950000</td>\n",
              "      <td>26.188500</td>\n",
              "      <td>2238.133333</td>\n",
              "    </tr>\n",
              "    <tr>\n",
              "      <th>2023-01-07</th>\n",
              "      <td>1.012609</td>\n",
              "      <td>1.450870</td>\n",
              "      <td>33.520000</td>\n",
              "      <td>1.460870</td>\n",
              "      <td>415.086957</td>\n",
              "      <td>26.085652</td>\n",
              "      <td>1798.608696</td>\n",
              "    </tr>\n",
              "    <tr>\n",
              "      <th>2023-01-08</th>\n",
              "      <td>NaN</td>\n",
              "      <td>NaN</td>\n",
              "      <td>NaN</td>\n",
              "      <td>NaN</td>\n",
              "      <td>NaN</td>\n",
              "      <td>NaN</td>\n",
              "      <td>NaN</td>\n",
              "    </tr>\n",
              "    <tr>\n",
              "      <th>2023-01-09</th>\n",
              "      <td>NaN</td>\n",
              "      <td>NaN</td>\n",
              "      <td>NaN</td>\n",
              "      <td>NaN</td>\n",
              "      <td>NaN</td>\n",
              "      <td>NaN</td>\n",
              "      <td>NaN</td>\n",
              "    </tr>\n",
              "    <tr>\n",
              "      <th>2023-01-10</th>\n",
              "      <td>NaN</td>\n",
              "      <td>NaN</td>\n",
              "      <td>NaN</td>\n",
              "      <td>NaN</td>\n",
              "      <td>NaN</td>\n",
              "      <td>NaN</td>\n",
              "      <td>NaN</td>\n",
              "    </tr>\n",
              "    <tr>\n",
              "      <th>2023-01-11</th>\n",
              "      <td>NaN</td>\n",
              "      <td>NaN</td>\n",
              "      <td>NaN</td>\n",
              "      <td>NaN</td>\n",
              "      <td>NaN</td>\n",
              "      <td>NaN</td>\n",
              "      <td>NaN</td>\n",
              "    </tr>\n",
              "    <tr>\n",
              "      <th>2023-01-12</th>\n",
              "      <td>NaN</td>\n",
              "      <td>NaN</td>\n",
              "      <td>NaN</td>\n",
              "      <td>NaN</td>\n",
              "      <td>NaN</td>\n",
              "      <td>NaN</td>\n",
              "      <td>NaN</td>\n",
              "    </tr>\n",
              "    <tr>\n",
              "      <th>2023-01-13</th>\n",
              "      <td>NaN</td>\n",
              "      <td>NaN</td>\n",
              "      <td>NaN</td>\n",
              "      <td>NaN</td>\n",
              "      <td>NaN</td>\n",
              "      <td>NaN</td>\n",
              "      <td>NaN</td>\n",
              "    </tr>\n",
              "    <tr>\n",
              "      <th>2023-01-14</th>\n",
              "      <td>NaN</td>\n",
              "      <td>NaN</td>\n",
              "      <td>NaN</td>\n",
              "      <td>NaN</td>\n",
              "      <td>NaN</td>\n",
              "      <td>NaN</td>\n",
              "      <td>NaN</td>\n",
              "    </tr>\n",
              "    <tr>\n",
              "      <th>2023-01-15</th>\n",
              "      <td>NaN</td>\n",
              "      <td>NaN</td>\n",
              "      <td>NaN</td>\n",
              "      <td>NaN</td>\n",
              "      <td>NaN</td>\n",
              "      <td>NaN</td>\n",
              "      <td>NaN</td>\n",
              "    </tr>\n",
              "    <tr>\n",
              "      <th>2023-01-16</th>\n",
              "      <td>NaN</td>\n",
              "      <td>NaN</td>\n",
              "      <td>NaN</td>\n",
              "      <td>NaN</td>\n",
              "      <td>NaN</td>\n",
              "      <td>NaN</td>\n",
              "      <td>NaN</td>\n",
              "    </tr>\n",
              "    <tr>\n",
              "      <th>2023-01-17</th>\n",
              "      <td>NaN</td>\n",
              "      <td>NaN</td>\n",
              "      <td>NaN</td>\n",
              "      <td>NaN</td>\n",
              "      <td>NaN</td>\n",
              "      <td>NaN</td>\n",
              "      <td>NaN</td>\n",
              "    </tr>\n",
              "    <tr>\n",
              "      <th>2023-01-18</th>\n",
              "      <td>NaN</td>\n",
              "      <td>NaN</td>\n",
              "      <td>NaN</td>\n",
              "      <td>NaN</td>\n",
              "      <td>NaN</td>\n",
              "      <td>NaN</td>\n",
              "      <td>NaN</td>\n",
              "    </tr>\n",
              "    <tr>\n",
              "      <th>2023-01-19</th>\n",
              "      <td>NaN</td>\n",
              "      <td>NaN</td>\n",
              "      <td>NaN</td>\n",
              "      <td>NaN</td>\n",
              "      <td>NaN</td>\n",
              "      <td>NaN</td>\n",
              "      <td>NaN</td>\n",
              "    </tr>\n",
              "    <tr>\n",
              "      <th>2023-01-20</th>\n",
              "      <td>NaN</td>\n",
              "      <td>NaN</td>\n",
              "      <td>NaN</td>\n",
              "      <td>NaN</td>\n",
              "      <td>NaN</td>\n",
              "      <td>NaN</td>\n",
              "      <td>NaN</td>\n",
              "    </tr>\n",
              "    <tr>\n",
              "      <th>2023-01-21</th>\n",
              "      <td>0.985556</td>\n",
              "      <td>1.338148</td>\n",
              "      <td>31.248519</td>\n",
              "      <td>1.096296</td>\n",
              "      <td>331.666667</td>\n",
              "      <td>26.555556</td>\n",
              "      <td>2831.518519</td>\n",
              "    </tr>\n",
              "    <tr>\n",
              "      <th>2023-01-22</th>\n",
              "      <td>0.993774</td>\n",
              "      <td>1.310755</td>\n",
              "      <td>31.934528</td>\n",
              "      <td>1.116981</td>\n",
              "      <td>329.528302</td>\n",
              "      <td>26.482075</td>\n",
              "      <td>1981.528302</td>\n",
              "    </tr>\n",
              "    <tr>\n",
              "      <th>2023-01-23</th>\n",
              "      <td>0.998000</td>\n",
              "      <td>1.323818</td>\n",
              "      <td>32.063818</td>\n",
              "      <td>1.076364</td>\n",
              "      <td>328.800000</td>\n",
              "      <td>26.580727</td>\n",
              "      <td>2248.200000</td>\n",
              "    </tr>\n",
              "  </tbody>\n",
              "</table>\n",
              "</div>\n",
              "      <button class=\"colab-df-convert\" onclick=\"convertToInteractive('df-863eed14-e9a3-4ba0-847c-cf2001ecd603')\"\n",
              "              title=\"Convert this dataframe to an interactive table.\"\n",
              "              style=\"display:none;\">\n",
              "        \n",
              "  <svg xmlns=\"http://www.w3.org/2000/svg\" height=\"24px\"viewBox=\"0 0 24 24\"\n",
              "       width=\"24px\">\n",
              "    <path d=\"M0 0h24v24H0V0z\" fill=\"none\"/>\n",
              "    <path d=\"M18.56 5.44l.94 2.06.94-2.06 2.06-.94-2.06-.94-.94-2.06-.94 2.06-2.06.94zm-11 1L8.5 8.5l.94-2.06 2.06-.94-2.06-.94L8.5 2.5l-.94 2.06-2.06.94zm10 10l.94 2.06.94-2.06 2.06-.94-2.06-.94-.94-2.06-.94 2.06-2.06.94z\"/><path d=\"M17.41 7.96l-1.37-1.37c-.4-.4-.92-.59-1.43-.59-.52 0-1.04.2-1.43.59L10.3 9.45l-7.72 7.72c-.78.78-.78 2.05 0 2.83L4 21.41c.39.39.9.59 1.41.59.51 0 1.02-.2 1.41-.59l7.78-7.78 2.81-2.81c.8-.78.8-2.07 0-2.86zM5.41 20L4 18.59l7.72-7.72 1.47 1.35L5.41 20z\"/>\n",
              "  </svg>\n",
              "      </button>\n",
              "      \n",
              "  <style>\n",
              "    .colab-df-container {\n",
              "      display:flex;\n",
              "      flex-wrap:wrap;\n",
              "      gap: 12px;\n",
              "    }\n",
              "\n",
              "    .colab-df-convert {\n",
              "      background-color: #E8F0FE;\n",
              "      border: none;\n",
              "      border-radius: 50%;\n",
              "      cursor: pointer;\n",
              "      display: none;\n",
              "      fill: #1967D2;\n",
              "      height: 32px;\n",
              "      padding: 0 0 0 0;\n",
              "      width: 32px;\n",
              "    }\n",
              "\n",
              "    .colab-df-convert:hover {\n",
              "      background-color: #E2EBFA;\n",
              "      box-shadow: 0px 1px 2px rgba(60, 64, 67, 0.3), 0px 1px 3px 1px rgba(60, 64, 67, 0.15);\n",
              "      fill: #174EA6;\n",
              "    }\n",
              "\n",
              "    [theme=dark] .colab-df-convert {\n",
              "      background-color: #3B4455;\n",
              "      fill: #D2E3FC;\n",
              "    }\n",
              "\n",
              "    [theme=dark] .colab-df-convert:hover {\n",
              "      background-color: #434B5C;\n",
              "      box-shadow: 0px 1px 3px 1px rgba(0, 0, 0, 0.15);\n",
              "      filter: drop-shadow(0px 1px 2px rgba(0, 0, 0, 0.3));\n",
              "      fill: #FFFFFF;\n",
              "    }\n",
              "  </style>\n",
              "\n",
              "      <script>\n",
              "        const buttonEl =\n",
              "          document.querySelector('#df-863eed14-e9a3-4ba0-847c-cf2001ecd603 button.colab-df-convert');\n",
              "        buttonEl.style.display =\n",
              "          google.colab.kernel.accessAllowed ? 'block' : 'none';\n",
              "\n",
              "        async function convertToInteractive(key) {\n",
              "          const element = document.querySelector('#df-863eed14-e9a3-4ba0-847c-cf2001ecd603');\n",
              "          const dataTable =\n",
              "            await google.colab.kernel.invokeFunction('convertToInteractive',\n",
              "                                                     [key], {});\n",
              "          if (!dataTable) return;\n",
              "\n",
              "          const docLinkHtml = 'Like what you see? Visit the ' +\n",
              "            '<a target=\"_blank\" href=https://colab.research.google.com/notebooks/data_table.ipynb>data table notebook</a>'\n",
              "            + ' to learn more about interactive tables.';\n",
              "          element.innerHTML = '';\n",
              "          dataTable['output_type'] = 'display_data';\n",
              "          await google.colab.output.renderOutput(dataTable, element);\n",
              "          const docLink = document.createElement('div');\n",
              "          docLink.innerHTML = docLinkHtml;\n",
              "          element.appendChild(docLink);\n",
              "        }\n",
              "      </script>\n",
              "    </div>\n",
              "  </div>\n",
              "  "
            ]
          },
          "metadata": {},
          "execution_count": 9
        }
      ]
    },
    {
      "cell_type": "markdown",
      "source": [
        "**Let's fill unknown values with mean of nearest no NaN values. Fill with average of parameters on 7 and 21 january same goes for second data set**"
      ],
      "metadata": {
        "id": "UbQd_w67dt0L"
      }
    },
    {
      "cell_type": "code",
      "source": [
        "df1_avg[\"pm1\"].fillna(1,inplace = True)\n",
        "df1_avg[\"pm2\"].fillna(1.38,inplace=True)\n",
        "df1_avg[\"pm3\"].fillna(32.4,inplace=True)\n",
        "df1_avg[\"am\"].fillna(1.23,inplace=True)\n",
        "df1_avg[\"sm\"].fillna(370,inplace=True)\n",
        "df1_avg[\"st\"].fillna(26.2,inplace=True)\n",
        "df1_avg[\"lum\"].fillna(2000,inplace=True)"
      ],
      "metadata": {
        "id": "fItJm9aQ6G7q"
      },
      "execution_count": 10,
      "outputs": []
    },
    {
      "cell_type": "code",
      "source": [
        "df1_avg[170:190]"
      ],
      "metadata": {
        "colab": {
          "base_uri": "https://localhost:8080/",
          "height": 708
        },
        "id": "0TqjYUwTwoeN",
        "outputId": "1064d27b-92cb-4421-c8c8-5674e1b7a02d"
      },
      "execution_count": 11,
      "outputs": [
        {
          "output_type": "execute_result",
          "data": {
            "text/plain": [
              "                 pm1       pm2        pm3        am          sm         st  \\\n",
              "ttime                                                                        \n",
              "2023-01-04  1.013448  1.447931  33.520000  1.131034  424.448276  26.791034   \n",
              "2023-01-05  1.003793  1.418966  33.520000  1.558621  422.068966  26.387586   \n",
              "2023-01-06  1.044667  1.390000  33.492000  1.920000  418.950000  26.188500   \n",
              "2023-01-07  1.012609  1.450870  33.520000  1.460870  415.086957  26.085652   \n",
              "2023-01-08  1.000000  1.380000  32.400000  1.230000  370.000000  26.200000   \n",
              "2023-01-09  1.000000  1.380000  32.400000  1.230000  370.000000  26.200000   \n",
              "2023-01-10  1.000000  1.380000  32.400000  1.230000  370.000000  26.200000   \n",
              "2023-01-11  1.000000  1.380000  32.400000  1.230000  370.000000  26.200000   \n",
              "2023-01-12  1.000000  1.380000  32.400000  1.230000  370.000000  26.200000   \n",
              "2023-01-13  1.000000  1.380000  32.400000  1.230000  370.000000  26.200000   \n",
              "2023-01-14  1.000000  1.380000  32.400000  1.230000  370.000000  26.200000   \n",
              "2023-01-15  1.000000  1.380000  32.400000  1.230000  370.000000  26.200000   \n",
              "2023-01-16  1.000000  1.380000  32.400000  1.230000  370.000000  26.200000   \n",
              "2023-01-17  1.000000  1.380000  32.400000  1.230000  370.000000  26.200000   \n",
              "2023-01-18  1.000000  1.380000  32.400000  1.230000  370.000000  26.200000   \n",
              "2023-01-19  1.000000  1.380000  32.400000  1.230000  370.000000  26.200000   \n",
              "2023-01-20  1.000000  1.380000  32.400000  1.230000  370.000000  26.200000   \n",
              "2023-01-21  0.985556  1.338148  31.248519  1.096296  331.666667  26.555556   \n",
              "2023-01-22  0.993774  1.310755  31.934528  1.116981  329.528302  26.482075   \n",
              "2023-01-23  0.998000  1.323818  32.063818  1.076364  328.800000  26.580727   \n",
              "\n",
              "                    lum  \n",
              "ttime                    \n",
              "2023-01-04  2257.706897  \n",
              "2023-01-05  2162.793103  \n",
              "2023-01-06  2238.133333  \n",
              "2023-01-07  1798.608696  \n",
              "2023-01-08  2000.000000  \n",
              "2023-01-09  2000.000000  \n",
              "2023-01-10  2000.000000  \n",
              "2023-01-11  2000.000000  \n",
              "2023-01-12  2000.000000  \n",
              "2023-01-13  2000.000000  \n",
              "2023-01-14  2000.000000  \n",
              "2023-01-15  2000.000000  \n",
              "2023-01-16  2000.000000  \n",
              "2023-01-17  2000.000000  \n",
              "2023-01-18  2000.000000  \n",
              "2023-01-19  2000.000000  \n",
              "2023-01-20  2000.000000  \n",
              "2023-01-21  2831.518519  \n",
              "2023-01-22  1981.528302  \n",
              "2023-01-23  2248.200000  "
            ],
            "text/html": [
              "\n",
              "  <div id=\"df-9c61c492-26df-47fe-a80a-97480fedf650\">\n",
              "    <div class=\"colab-df-container\">\n",
              "      <div>\n",
              "<style scoped>\n",
              "    .dataframe tbody tr th:only-of-type {\n",
              "        vertical-align: middle;\n",
              "    }\n",
              "\n",
              "    .dataframe tbody tr th {\n",
              "        vertical-align: top;\n",
              "    }\n",
              "\n",
              "    .dataframe thead th {\n",
              "        text-align: right;\n",
              "    }\n",
              "</style>\n",
              "<table border=\"1\" class=\"dataframe\">\n",
              "  <thead>\n",
              "    <tr style=\"text-align: right;\">\n",
              "      <th></th>\n",
              "      <th>pm1</th>\n",
              "      <th>pm2</th>\n",
              "      <th>pm3</th>\n",
              "      <th>am</th>\n",
              "      <th>sm</th>\n",
              "      <th>st</th>\n",
              "      <th>lum</th>\n",
              "    </tr>\n",
              "    <tr>\n",
              "      <th>ttime</th>\n",
              "      <th></th>\n",
              "      <th></th>\n",
              "      <th></th>\n",
              "      <th></th>\n",
              "      <th></th>\n",
              "      <th></th>\n",
              "      <th></th>\n",
              "    </tr>\n",
              "  </thead>\n",
              "  <tbody>\n",
              "    <tr>\n",
              "      <th>2023-01-04</th>\n",
              "      <td>1.013448</td>\n",
              "      <td>1.447931</td>\n",
              "      <td>33.520000</td>\n",
              "      <td>1.131034</td>\n",
              "      <td>424.448276</td>\n",
              "      <td>26.791034</td>\n",
              "      <td>2257.706897</td>\n",
              "    </tr>\n",
              "    <tr>\n",
              "      <th>2023-01-05</th>\n",
              "      <td>1.003793</td>\n",
              "      <td>1.418966</td>\n",
              "      <td>33.520000</td>\n",
              "      <td>1.558621</td>\n",
              "      <td>422.068966</td>\n",
              "      <td>26.387586</td>\n",
              "      <td>2162.793103</td>\n",
              "    </tr>\n",
              "    <tr>\n",
              "      <th>2023-01-06</th>\n",
              "      <td>1.044667</td>\n",
              "      <td>1.390000</td>\n",
              "      <td>33.492000</td>\n",
              "      <td>1.920000</td>\n",
              "      <td>418.950000</td>\n",
              "      <td>26.188500</td>\n",
              "      <td>2238.133333</td>\n",
              "    </tr>\n",
              "    <tr>\n",
              "      <th>2023-01-07</th>\n",
              "      <td>1.012609</td>\n",
              "      <td>1.450870</td>\n",
              "      <td>33.520000</td>\n",
              "      <td>1.460870</td>\n",
              "      <td>415.086957</td>\n",
              "      <td>26.085652</td>\n",
              "      <td>1798.608696</td>\n",
              "    </tr>\n",
              "    <tr>\n",
              "      <th>2023-01-08</th>\n",
              "      <td>1.000000</td>\n",
              "      <td>1.380000</td>\n",
              "      <td>32.400000</td>\n",
              "      <td>1.230000</td>\n",
              "      <td>370.000000</td>\n",
              "      <td>26.200000</td>\n",
              "      <td>2000.000000</td>\n",
              "    </tr>\n",
              "    <tr>\n",
              "      <th>2023-01-09</th>\n",
              "      <td>1.000000</td>\n",
              "      <td>1.380000</td>\n",
              "      <td>32.400000</td>\n",
              "      <td>1.230000</td>\n",
              "      <td>370.000000</td>\n",
              "      <td>26.200000</td>\n",
              "      <td>2000.000000</td>\n",
              "    </tr>\n",
              "    <tr>\n",
              "      <th>2023-01-10</th>\n",
              "      <td>1.000000</td>\n",
              "      <td>1.380000</td>\n",
              "      <td>32.400000</td>\n",
              "      <td>1.230000</td>\n",
              "      <td>370.000000</td>\n",
              "      <td>26.200000</td>\n",
              "      <td>2000.000000</td>\n",
              "    </tr>\n",
              "    <tr>\n",
              "      <th>2023-01-11</th>\n",
              "      <td>1.000000</td>\n",
              "      <td>1.380000</td>\n",
              "      <td>32.400000</td>\n",
              "      <td>1.230000</td>\n",
              "      <td>370.000000</td>\n",
              "      <td>26.200000</td>\n",
              "      <td>2000.000000</td>\n",
              "    </tr>\n",
              "    <tr>\n",
              "      <th>2023-01-12</th>\n",
              "      <td>1.000000</td>\n",
              "      <td>1.380000</td>\n",
              "      <td>32.400000</td>\n",
              "      <td>1.230000</td>\n",
              "      <td>370.000000</td>\n",
              "      <td>26.200000</td>\n",
              "      <td>2000.000000</td>\n",
              "    </tr>\n",
              "    <tr>\n",
              "      <th>2023-01-13</th>\n",
              "      <td>1.000000</td>\n",
              "      <td>1.380000</td>\n",
              "      <td>32.400000</td>\n",
              "      <td>1.230000</td>\n",
              "      <td>370.000000</td>\n",
              "      <td>26.200000</td>\n",
              "      <td>2000.000000</td>\n",
              "    </tr>\n",
              "    <tr>\n",
              "      <th>2023-01-14</th>\n",
              "      <td>1.000000</td>\n",
              "      <td>1.380000</td>\n",
              "      <td>32.400000</td>\n",
              "      <td>1.230000</td>\n",
              "      <td>370.000000</td>\n",
              "      <td>26.200000</td>\n",
              "      <td>2000.000000</td>\n",
              "    </tr>\n",
              "    <tr>\n",
              "      <th>2023-01-15</th>\n",
              "      <td>1.000000</td>\n",
              "      <td>1.380000</td>\n",
              "      <td>32.400000</td>\n",
              "      <td>1.230000</td>\n",
              "      <td>370.000000</td>\n",
              "      <td>26.200000</td>\n",
              "      <td>2000.000000</td>\n",
              "    </tr>\n",
              "    <tr>\n",
              "      <th>2023-01-16</th>\n",
              "      <td>1.000000</td>\n",
              "      <td>1.380000</td>\n",
              "      <td>32.400000</td>\n",
              "      <td>1.230000</td>\n",
              "      <td>370.000000</td>\n",
              "      <td>26.200000</td>\n",
              "      <td>2000.000000</td>\n",
              "    </tr>\n",
              "    <tr>\n",
              "      <th>2023-01-17</th>\n",
              "      <td>1.000000</td>\n",
              "      <td>1.380000</td>\n",
              "      <td>32.400000</td>\n",
              "      <td>1.230000</td>\n",
              "      <td>370.000000</td>\n",
              "      <td>26.200000</td>\n",
              "      <td>2000.000000</td>\n",
              "    </tr>\n",
              "    <tr>\n",
              "      <th>2023-01-18</th>\n",
              "      <td>1.000000</td>\n",
              "      <td>1.380000</td>\n",
              "      <td>32.400000</td>\n",
              "      <td>1.230000</td>\n",
              "      <td>370.000000</td>\n",
              "      <td>26.200000</td>\n",
              "      <td>2000.000000</td>\n",
              "    </tr>\n",
              "    <tr>\n",
              "      <th>2023-01-19</th>\n",
              "      <td>1.000000</td>\n",
              "      <td>1.380000</td>\n",
              "      <td>32.400000</td>\n",
              "      <td>1.230000</td>\n",
              "      <td>370.000000</td>\n",
              "      <td>26.200000</td>\n",
              "      <td>2000.000000</td>\n",
              "    </tr>\n",
              "    <tr>\n",
              "      <th>2023-01-20</th>\n",
              "      <td>1.000000</td>\n",
              "      <td>1.380000</td>\n",
              "      <td>32.400000</td>\n",
              "      <td>1.230000</td>\n",
              "      <td>370.000000</td>\n",
              "      <td>26.200000</td>\n",
              "      <td>2000.000000</td>\n",
              "    </tr>\n",
              "    <tr>\n",
              "      <th>2023-01-21</th>\n",
              "      <td>0.985556</td>\n",
              "      <td>1.338148</td>\n",
              "      <td>31.248519</td>\n",
              "      <td>1.096296</td>\n",
              "      <td>331.666667</td>\n",
              "      <td>26.555556</td>\n",
              "      <td>2831.518519</td>\n",
              "    </tr>\n",
              "    <tr>\n",
              "      <th>2023-01-22</th>\n",
              "      <td>0.993774</td>\n",
              "      <td>1.310755</td>\n",
              "      <td>31.934528</td>\n",
              "      <td>1.116981</td>\n",
              "      <td>329.528302</td>\n",
              "      <td>26.482075</td>\n",
              "      <td>1981.528302</td>\n",
              "    </tr>\n",
              "    <tr>\n",
              "      <th>2023-01-23</th>\n",
              "      <td>0.998000</td>\n",
              "      <td>1.323818</td>\n",
              "      <td>32.063818</td>\n",
              "      <td>1.076364</td>\n",
              "      <td>328.800000</td>\n",
              "      <td>26.580727</td>\n",
              "      <td>2248.200000</td>\n",
              "    </tr>\n",
              "  </tbody>\n",
              "</table>\n",
              "</div>\n",
              "      <button class=\"colab-df-convert\" onclick=\"convertToInteractive('df-9c61c492-26df-47fe-a80a-97480fedf650')\"\n",
              "              title=\"Convert this dataframe to an interactive table.\"\n",
              "              style=\"display:none;\">\n",
              "        \n",
              "  <svg xmlns=\"http://www.w3.org/2000/svg\" height=\"24px\"viewBox=\"0 0 24 24\"\n",
              "       width=\"24px\">\n",
              "    <path d=\"M0 0h24v24H0V0z\" fill=\"none\"/>\n",
              "    <path d=\"M18.56 5.44l.94 2.06.94-2.06 2.06-.94-2.06-.94-.94-2.06-.94 2.06-2.06.94zm-11 1L8.5 8.5l.94-2.06 2.06-.94-2.06-.94L8.5 2.5l-.94 2.06-2.06.94zm10 10l.94 2.06.94-2.06 2.06-.94-2.06-.94-.94-2.06-.94 2.06-2.06.94z\"/><path d=\"M17.41 7.96l-1.37-1.37c-.4-.4-.92-.59-1.43-.59-.52 0-1.04.2-1.43.59L10.3 9.45l-7.72 7.72c-.78.78-.78 2.05 0 2.83L4 21.41c.39.39.9.59 1.41.59.51 0 1.02-.2 1.41-.59l7.78-7.78 2.81-2.81c.8-.78.8-2.07 0-2.86zM5.41 20L4 18.59l7.72-7.72 1.47 1.35L5.41 20z\"/>\n",
              "  </svg>\n",
              "      </button>\n",
              "      \n",
              "  <style>\n",
              "    .colab-df-container {\n",
              "      display:flex;\n",
              "      flex-wrap:wrap;\n",
              "      gap: 12px;\n",
              "    }\n",
              "\n",
              "    .colab-df-convert {\n",
              "      background-color: #E8F0FE;\n",
              "      border: none;\n",
              "      border-radius: 50%;\n",
              "      cursor: pointer;\n",
              "      display: none;\n",
              "      fill: #1967D2;\n",
              "      height: 32px;\n",
              "      padding: 0 0 0 0;\n",
              "      width: 32px;\n",
              "    }\n",
              "\n",
              "    .colab-df-convert:hover {\n",
              "      background-color: #E2EBFA;\n",
              "      box-shadow: 0px 1px 2px rgba(60, 64, 67, 0.3), 0px 1px 3px 1px rgba(60, 64, 67, 0.15);\n",
              "      fill: #174EA6;\n",
              "    }\n",
              "\n",
              "    [theme=dark] .colab-df-convert {\n",
              "      background-color: #3B4455;\n",
              "      fill: #D2E3FC;\n",
              "    }\n",
              "\n",
              "    [theme=dark] .colab-df-convert:hover {\n",
              "      background-color: #434B5C;\n",
              "      box-shadow: 0px 1px 3px 1px rgba(0, 0, 0, 0.15);\n",
              "      filter: drop-shadow(0px 1px 2px rgba(0, 0, 0, 0.3));\n",
              "      fill: #FFFFFF;\n",
              "    }\n",
              "  </style>\n",
              "\n",
              "      <script>\n",
              "        const buttonEl =\n",
              "          document.querySelector('#df-9c61c492-26df-47fe-a80a-97480fedf650 button.colab-df-convert');\n",
              "        buttonEl.style.display =\n",
              "          google.colab.kernel.accessAllowed ? 'block' : 'none';\n",
              "\n",
              "        async function convertToInteractive(key) {\n",
              "          const element = document.querySelector('#df-9c61c492-26df-47fe-a80a-97480fedf650');\n",
              "          const dataTable =\n",
              "            await google.colab.kernel.invokeFunction('convertToInteractive',\n",
              "                                                     [key], {});\n",
              "          if (!dataTable) return;\n",
              "\n",
              "          const docLinkHtml = 'Like what you see? Visit the ' +\n",
              "            '<a target=\"_blank\" href=https://colab.research.google.com/notebooks/data_table.ipynb>data table notebook</a>'\n",
              "            + ' to learn more about interactive tables.';\n",
              "          element.innerHTML = '';\n",
              "          dataTable['output_type'] = 'display_data';\n",
              "          await google.colab.output.renderOutput(dataTable, element);\n",
              "          const docLink = document.createElement('div');\n",
              "          docLink.innerHTML = docLinkHtml;\n",
              "          element.appendChild(docLink);\n",
              "        }\n",
              "      </script>\n",
              "    </div>\n",
              "  </div>\n",
              "  "
            ]
          },
          "metadata": {},
          "execution_count": 11
        }
      ]
    },
    {
      "cell_type": "code",
      "source": [
        "df2_avg[170:190]"
      ],
      "metadata": {
        "colab": {
          "base_uri": "https://localhost:8080/",
          "height": 708
        },
        "id": "Dl1lzd8XPEmt",
        "outputId": "10d5049e-278b-494e-aff4-12b5c8dbbece"
      },
      "execution_count": 12,
      "outputs": [
        {
          "output_type": "execute_result",
          "data": {
            "text/plain": [
              "                 pm1       pm2        pm3        am          sm          lum  \\\n",
              "ttime                                                                          \n",
              "2023-01-04  1.030000  1.403333  33.520000  0.749206  365.555556  2996.936508   \n",
              "2023-01-05  1.012222  1.421111  33.520000  1.828571  362.809524  2574.396825   \n",
              "2023-01-06  1.037742  1.408065  33.520000  1.806452  360.435484  3165.580645   \n",
              "2023-01-07  1.040000  1.460000  33.520000  1.500000  359.083333   789.708333   \n",
              "2023-01-08       NaN       NaN        NaN       NaN         NaN          NaN   \n",
              "2023-01-09       NaN       NaN        NaN       NaN         NaN          NaN   \n",
              "2023-01-10       NaN       NaN        NaN       NaN         NaN          NaN   \n",
              "2023-01-11       NaN       NaN        NaN       NaN         NaN          NaN   \n",
              "2023-01-12       NaN       NaN        NaN       NaN         NaN          NaN   \n",
              "2023-01-13       NaN       NaN        NaN       NaN         NaN          NaN   \n",
              "2023-01-14       NaN       NaN        NaN       NaN         NaN          NaN   \n",
              "2023-01-15       NaN       NaN        NaN       NaN         NaN          NaN   \n",
              "2023-01-16       NaN       NaN        NaN       NaN         NaN          NaN   \n",
              "2023-01-17       NaN       NaN        NaN       NaN         NaN          NaN   \n",
              "2023-01-18       NaN       NaN        NaN       NaN         NaN          NaN   \n",
              "2023-01-19       NaN       NaN        NaN       NaN         NaN          NaN   \n",
              "2023-01-20  1.008182  1.347576  31.323939  2.375758  344.787879  2028.212121   \n",
              "2023-01-21  0.998000  1.315333  31.980667  1.413333  342.566667  2142.883333   \n",
              "2023-01-22  0.986610  1.337797  31.906949  1.220339  342.254237  1976.067797   \n",
              "2023-01-23  0.974828  1.303103  31.290000  1.103448  342.344828  2133.879310   \n",
              "\n",
              "                 temp       humd          pres  \n",
              "ttime                                           \n",
              "2023-01-04  21.198254  63.843651  93550.343810  \n",
              "2023-01-05  20.471429  61.808730  93608.142540  \n",
              "2023-01-06  20.038387  71.187742  93747.303871  \n",
              "2023-01-07  15.612500  97.820417  93719.631667  \n",
              "2023-01-08        NaN        NaN           NaN  \n",
              "2023-01-09        NaN        NaN           NaN  \n",
              "2023-01-10        NaN        NaN           NaN  \n",
              "2023-01-11        NaN        NaN           NaN  \n",
              "2023-01-12        NaN        NaN           NaN  \n",
              "2023-01-13        NaN        NaN           NaN  \n",
              "2023-01-14        NaN        NaN           NaN  \n",
              "2023-01-15        NaN        NaN           NaN  \n",
              "2023-01-16        NaN        NaN           NaN  \n",
              "2023-01-17        NaN        NaN           NaN  \n",
              "2023-01-18        NaN        NaN           NaN  \n",
              "2023-01-19        NaN        NaN           NaN  \n",
              "2023-01-20  23.916667  38.408485  93483.870606  \n",
              "2023-01-21  20.082667  63.030167  93472.178667  \n",
              "2023-01-22  20.623898  62.611525  93359.566610  \n",
              "2023-01-23  21.476379  64.715000  93249.969655  "
            ],
            "text/html": [
              "\n",
              "  <div id=\"df-47de751c-fe9e-48cd-8d94-c36074dc0ac9\">\n",
              "    <div class=\"colab-df-container\">\n",
              "      <div>\n",
              "<style scoped>\n",
              "    .dataframe tbody tr th:only-of-type {\n",
              "        vertical-align: middle;\n",
              "    }\n",
              "\n",
              "    .dataframe tbody tr th {\n",
              "        vertical-align: top;\n",
              "    }\n",
              "\n",
              "    .dataframe thead th {\n",
              "        text-align: right;\n",
              "    }\n",
              "</style>\n",
              "<table border=\"1\" class=\"dataframe\">\n",
              "  <thead>\n",
              "    <tr style=\"text-align: right;\">\n",
              "      <th></th>\n",
              "      <th>pm1</th>\n",
              "      <th>pm2</th>\n",
              "      <th>pm3</th>\n",
              "      <th>am</th>\n",
              "      <th>sm</th>\n",
              "      <th>lum</th>\n",
              "      <th>temp</th>\n",
              "      <th>humd</th>\n",
              "      <th>pres</th>\n",
              "    </tr>\n",
              "    <tr>\n",
              "      <th>ttime</th>\n",
              "      <th></th>\n",
              "      <th></th>\n",
              "      <th></th>\n",
              "      <th></th>\n",
              "      <th></th>\n",
              "      <th></th>\n",
              "      <th></th>\n",
              "      <th></th>\n",
              "      <th></th>\n",
              "    </tr>\n",
              "  </thead>\n",
              "  <tbody>\n",
              "    <tr>\n",
              "      <th>2023-01-04</th>\n",
              "      <td>1.030000</td>\n",
              "      <td>1.403333</td>\n",
              "      <td>33.520000</td>\n",
              "      <td>0.749206</td>\n",
              "      <td>365.555556</td>\n",
              "      <td>2996.936508</td>\n",
              "      <td>21.198254</td>\n",
              "      <td>63.843651</td>\n",
              "      <td>93550.343810</td>\n",
              "    </tr>\n",
              "    <tr>\n",
              "      <th>2023-01-05</th>\n",
              "      <td>1.012222</td>\n",
              "      <td>1.421111</td>\n",
              "      <td>33.520000</td>\n",
              "      <td>1.828571</td>\n",
              "      <td>362.809524</td>\n",
              "      <td>2574.396825</td>\n",
              "      <td>20.471429</td>\n",
              "      <td>61.808730</td>\n",
              "      <td>93608.142540</td>\n",
              "    </tr>\n",
              "    <tr>\n",
              "      <th>2023-01-06</th>\n",
              "      <td>1.037742</td>\n",
              "      <td>1.408065</td>\n",
              "      <td>33.520000</td>\n",
              "      <td>1.806452</td>\n",
              "      <td>360.435484</td>\n",
              "      <td>3165.580645</td>\n",
              "      <td>20.038387</td>\n",
              "      <td>71.187742</td>\n",
              "      <td>93747.303871</td>\n",
              "    </tr>\n",
              "    <tr>\n",
              "      <th>2023-01-07</th>\n",
              "      <td>1.040000</td>\n",
              "      <td>1.460000</td>\n",
              "      <td>33.520000</td>\n",
              "      <td>1.500000</td>\n",
              "      <td>359.083333</td>\n",
              "      <td>789.708333</td>\n",
              "      <td>15.612500</td>\n",
              "      <td>97.820417</td>\n",
              "      <td>93719.631667</td>\n",
              "    </tr>\n",
              "    <tr>\n",
              "      <th>2023-01-08</th>\n",
              "      <td>NaN</td>\n",
              "      <td>NaN</td>\n",
              "      <td>NaN</td>\n",
              "      <td>NaN</td>\n",
              "      <td>NaN</td>\n",
              "      <td>NaN</td>\n",
              "      <td>NaN</td>\n",
              "      <td>NaN</td>\n",
              "      <td>NaN</td>\n",
              "    </tr>\n",
              "    <tr>\n",
              "      <th>2023-01-09</th>\n",
              "      <td>NaN</td>\n",
              "      <td>NaN</td>\n",
              "      <td>NaN</td>\n",
              "      <td>NaN</td>\n",
              "      <td>NaN</td>\n",
              "      <td>NaN</td>\n",
              "      <td>NaN</td>\n",
              "      <td>NaN</td>\n",
              "      <td>NaN</td>\n",
              "    </tr>\n",
              "    <tr>\n",
              "      <th>2023-01-10</th>\n",
              "      <td>NaN</td>\n",
              "      <td>NaN</td>\n",
              "      <td>NaN</td>\n",
              "      <td>NaN</td>\n",
              "      <td>NaN</td>\n",
              "      <td>NaN</td>\n",
              "      <td>NaN</td>\n",
              "      <td>NaN</td>\n",
              "      <td>NaN</td>\n",
              "    </tr>\n",
              "    <tr>\n",
              "      <th>2023-01-11</th>\n",
              "      <td>NaN</td>\n",
              "      <td>NaN</td>\n",
              "      <td>NaN</td>\n",
              "      <td>NaN</td>\n",
              "      <td>NaN</td>\n",
              "      <td>NaN</td>\n",
              "      <td>NaN</td>\n",
              "      <td>NaN</td>\n",
              "      <td>NaN</td>\n",
              "    </tr>\n",
              "    <tr>\n",
              "      <th>2023-01-12</th>\n",
              "      <td>NaN</td>\n",
              "      <td>NaN</td>\n",
              "      <td>NaN</td>\n",
              "      <td>NaN</td>\n",
              "      <td>NaN</td>\n",
              "      <td>NaN</td>\n",
              "      <td>NaN</td>\n",
              "      <td>NaN</td>\n",
              "      <td>NaN</td>\n",
              "    </tr>\n",
              "    <tr>\n",
              "      <th>2023-01-13</th>\n",
              "      <td>NaN</td>\n",
              "      <td>NaN</td>\n",
              "      <td>NaN</td>\n",
              "      <td>NaN</td>\n",
              "      <td>NaN</td>\n",
              "      <td>NaN</td>\n",
              "      <td>NaN</td>\n",
              "      <td>NaN</td>\n",
              "      <td>NaN</td>\n",
              "    </tr>\n",
              "    <tr>\n",
              "      <th>2023-01-14</th>\n",
              "      <td>NaN</td>\n",
              "      <td>NaN</td>\n",
              "      <td>NaN</td>\n",
              "      <td>NaN</td>\n",
              "      <td>NaN</td>\n",
              "      <td>NaN</td>\n",
              "      <td>NaN</td>\n",
              "      <td>NaN</td>\n",
              "      <td>NaN</td>\n",
              "    </tr>\n",
              "    <tr>\n",
              "      <th>2023-01-15</th>\n",
              "      <td>NaN</td>\n",
              "      <td>NaN</td>\n",
              "      <td>NaN</td>\n",
              "      <td>NaN</td>\n",
              "      <td>NaN</td>\n",
              "      <td>NaN</td>\n",
              "      <td>NaN</td>\n",
              "      <td>NaN</td>\n",
              "      <td>NaN</td>\n",
              "    </tr>\n",
              "    <tr>\n",
              "      <th>2023-01-16</th>\n",
              "      <td>NaN</td>\n",
              "      <td>NaN</td>\n",
              "      <td>NaN</td>\n",
              "      <td>NaN</td>\n",
              "      <td>NaN</td>\n",
              "      <td>NaN</td>\n",
              "      <td>NaN</td>\n",
              "      <td>NaN</td>\n",
              "      <td>NaN</td>\n",
              "    </tr>\n",
              "    <tr>\n",
              "      <th>2023-01-17</th>\n",
              "      <td>NaN</td>\n",
              "      <td>NaN</td>\n",
              "      <td>NaN</td>\n",
              "      <td>NaN</td>\n",
              "      <td>NaN</td>\n",
              "      <td>NaN</td>\n",
              "      <td>NaN</td>\n",
              "      <td>NaN</td>\n",
              "      <td>NaN</td>\n",
              "    </tr>\n",
              "    <tr>\n",
              "      <th>2023-01-18</th>\n",
              "      <td>NaN</td>\n",
              "      <td>NaN</td>\n",
              "      <td>NaN</td>\n",
              "      <td>NaN</td>\n",
              "      <td>NaN</td>\n",
              "      <td>NaN</td>\n",
              "      <td>NaN</td>\n",
              "      <td>NaN</td>\n",
              "      <td>NaN</td>\n",
              "    </tr>\n",
              "    <tr>\n",
              "      <th>2023-01-19</th>\n",
              "      <td>NaN</td>\n",
              "      <td>NaN</td>\n",
              "      <td>NaN</td>\n",
              "      <td>NaN</td>\n",
              "      <td>NaN</td>\n",
              "      <td>NaN</td>\n",
              "      <td>NaN</td>\n",
              "      <td>NaN</td>\n",
              "      <td>NaN</td>\n",
              "    </tr>\n",
              "    <tr>\n",
              "      <th>2023-01-20</th>\n",
              "      <td>1.008182</td>\n",
              "      <td>1.347576</td>\n",
              "      <td>31.323939</td>\n",
              "      <td>2.375758</td>\n",
              "      <td>344.787879</td>\n",
              "      <td>2028.212121</td>\n",
              "      <td>23.916667</td>\n",
              "      <td>38.408485</td>\n",
              "      <td>93483.870606</td>\n",
              "    </tr>\n",
              "    <tr>\n",
              "      <th>2023-01-21</th>\n",
              "      <td>0.998000</td>\n",
              "      <td>1.315333</td>\n",
              "      <td>31.980667</td>\n",
              "      <td>1.413333</td>\n",
              "      <td>342.566667</td>\n",
              "      <td>2142.883333</td>\n",
              "      <td>20.082667</td>\n",
              "      <td>63.030167</td>\n",
              "      <td>93472.178667</td>\n",
              "    </tr>\n",
              "    <tr>\n",
              "      <th>2023-01-22</th>\n",
              "      <td>0.986610</td>\n",
              "      <td>1.337797</td>\n",
              "      <td>31.906949</td>\n",
              "      <td>1.220339</td>\n",
              "      <td>342.254237</td>\n",
              "      <td>1976.067797</td>\n",
              "      <td>20.623898</td>\n",
              "      <td>62.611525</td>\n",
              "      <td>93359.566610</td>\n",
              "    </tr>\n",
              "    <tr>\n",
              "      <th>2023-01-23</th>\n",
              "      <td>0.974828</td>\n",
              "      <td>1.303103</td>\n",
              "      <td>31.290000</td>\n",
              "      <td>1.103448</td>\n",
              "      <td>342.344828</td>\n",
              "      <td>2133.879310</td>\n",
              "      <td>21.476379</td>\n",
              "      <td>64.715000</td>\n",
              "      <td>93249.969655</td>\n",
              "    </tr>\n",
              "  </tbody>\n",
              "</table>\n",
              "</div>\n",
              "      <button class=\"colab-df-convert\" onclick=\"convertToInteractive('df-47de751c-fe9e-48cd-8d94-c36074dc0ac9')\"\n",
              "              title=\"Convert this dataframe to an interactive table.\"\n",
              "              style=\"display:none;\">\n",
              "        \n",
              "  <svg xmlns=\"http://www.w3.org/2000/svg\" height=\"24px\"viewBox=\"0 0 24 24\"\n",
              "       width=\"24px\">\n",
              "    <path d=\"M0 0h24v24H0V0z\" fill=\"none\"/>\n",
              "    <path d=\"M18.56 5.44l.94 2.06.94-2.06 2.06-.94-2.06-.94-.94-2.06-.94 2.06-2.06.94zm-11 1L8.5 8.5l.94-2.06 2.06-.94-2.06-.94L8.5 2.5l-.94 2.06-2.06.94zm10 10l.94 2.06.94-2.06 2.06-.94-2.06-.94-.94-2.06-.94 2.06-2.06.94z\"/><path d=\"M17.41 7.96l-1.37-1.37c-.4-.4-.92-.59-1.43-.59-.52 0-1.04.2-1.43.59L10.3 9.45l-7.72 7.72c-.78.78-.78 2.05 0 2.83L4 21.41c.39.39.9.59 1.41.59.51 0 1.02-.2 1.41-.59l7.78-7.78 2.81-2.81c.8-.78.8-2.07 0-2.86zM5.41 20L4 18.59l7.72-7.72 1.47 1.35L5.41 20z\"/>\n",
              "  </svg>\n",
              "      </button>\n",
              "      \n",
              "  <style>\n",
              "    .colab-df-container {\n",
              "      display:flex;\n",
              "      flex-wrap:wrap;\n",
              "      gap: 12px;\n",
              "    }\n",
              "\n",
              "    .colab-df-convert {\n",
              "      background-color: #E8F0FE;\n",
              "      border: none;\n",
              "      border-radius: 50%;\n",
              "      cursor: pointer;\n",
              "      display: none;\n",
              "      fill: #1967D2;\n",
              "      height: 32px;\n",
              "      padding: 0 0 0 0;\n",
              "      width: 32px;\n",
              "    }\n",
              "\n",
              "    .colab-df-convert:hover {\n",
              "      background-color: #E2EBFA;\n",
              "      box-shadow: 0px 1px 2px rgba(60, 64, 67, 0.3), 0px 1px 3px 1px rgba(60, 64, 67, 0.15);\n",
              "      fill: #174EA6;\n",
              "    }\n",
              "\n",
              "    [theme=dark] .colab-df-convert {\n",
              "      background-color: #3B4455;\n",
              "      fill: #D2E3FC;\n",
              "    }\n",
              "\n",
              "    [theme=dark] .colab-df-convert:hover {\n",
              "      background-color: #434B5C;\n",
              "      box-shadow: 0px 1px 3px 1px rgba(0, 0, 0, 0.15);\n",
              "      filter: drop-shadow(0px 1px 2px rgba(0, 0, 0, 0.3));\n",
              "      fill: #FFFFFF;\n",
              "    }\n",
              "  </style>\n",
              "\n",
              "      <script>\n",
              "        const buttonEl =\n",
              "          document.querySelector('#df-47de751c-fe9e-48cd-8d94-c36074dc0ac9 button.colab-df-convert');\n",
              "        buttonEl.style.display =\n",
              "          google.colab.kernel.accessAllowed ? 'block' : 'none';\n",
              "\n",
              "        async function convertToInteractive(key) {\n",
              "          const element = document.querySelector('#df-47de751c-fe9e-48cd-8d94-c36074dc0ac9');\n",
              "          const dataTable =\n",
              "            await google.colab.kernel.invokeFunction('convertToInteractive',\n",
              "                                                     [key], {});\n",
              "          if (!dataTable) return;\n",
              "\n",
              "          const docLinkHtml = 'Like what you see? Visit the ' +\n",
              "            '<a target=\"_blank\" href=https://colab.research.google.com/notebooks/data_table.ipynb>data table notebook</a>'\n",
              "            + ' to learn more about interactive tables.';\n",
              "          element.innerHTML = '';\n",
              "          dataTable['output_type'] = 'display_data';\n",
              "          await google.colab.output.renderOutput(dataTable, element);\n",
              "          const docLink = document.createElement('div');\n",
              "          docLink.innerHTML = docLinkHtml;\n",
              "          element.appendChild(docLink);\n",
              "        }\n",
              "      </script>\n",
              "    </div>\n",
              "  </div>\n",
              "  "
            ]
          },
          "metadata": {},
          "execution_count": 12
        }
      ]
    },
    {
      "cell_type": "code",
      "source": [
        "df2_avg[\"pm1\"].fillna(1,inplace = True)\n",
        "df2_avg[\"pm2\"].fillna(1.38,inplace=True)\n",
        "df2_avg[\"pm3\"].fillna(32.4,inplace=True)\n",
        "df2_avg[\"am\"].fillna(1.83,inplace=True)\n",
        "df2_avg[\"sm\"].fillna(350,inplace=True)\n",
        "df2_avg[\"lum\"].fillna(2000,inplace=True)\n",
        "df2_avg[\"temp\"].fillna(20,inplace=True)\n",
        "df2_avg[\"humd\"].fillna(90,inplace=True)\n",
        "df2_avg[\"pres\"].fillna(93500,inplace=True)"
      ],
      "metadata": {
        "id": "abO1Ti5_QwHu"
      },
      "execution_count": 53,
      "outputs": []
    },
    {
      "cell_type": "code",
      "source": [
        "df2_avg[170:190]"
      ],
      "metadata": {
        "id": "mH7RmZXKVkJV"
      },
      "execution_count": null,
      "outputs": []
    },
    {
      "cell_type": "code",
      "source": [
        "df1_avg.plot(y='sm',kind='line')\n",
        "plt.show()\n",
        "df2_avg.plot(y='sm',kind='line')\n",
        "plt.show()"
      ],
      "metadata": {
        "colab": {
          "base_uri": "https://localhost:8080/",
          "height": 567
        },
        "id": "H1QYgy3upwxR",
        "outputId": "c62b6b89-7c09-40bd-8053-eb171af14729"
      },
      "execution_count": 15,
      "outputs": [
        {
          "output_type": "display_data",
          "data": {
            "text/plain": [
              "<Figure size 432x288 with 1 Axes>"
            ],
            "image/png": "[encoded data removed]"
          },
          "metadata": {
            "needs_background": "light"
          }
        },
        {
          "output_type": "display_data",
          "data": {
            "text/plain": [
              "<Figure size 432x288 with 1 Axes>"
            ],
            "image/png": "[encoded data removed]"
          },
          "metadata": {
            "needs_background": "light"
          }
        }
      ]
    },
    {
      "cell_type": "code",
      "source": [
        "df1_avg.describe()"
      ],
      "metadata": {
        "colab": {
          "base_uri": "https://localhost:8080/",
          "height": 300
        },
        "id": "ZQbY8cNIvq8x",
        "outputId": "962bdd47-946a-40ba-9009-c49d7a1f53e3"
      },
      "execution_count": 16,
      "outputs": [
        {
          "output_type": "execute_result",
          "data": {
            "text/plain": [
              "              pm1         pm2         pm3          am           sm  \\\n",
              "count  236.000000  236.000000  236.000000  236.000000   236.000000   \n",
              "mean     1.358809    2.122035   48.881211    1.810683  3031.522160   \n",
              "std      0.510713    1.027345   22.635938    0.941322  2936.436312   \n",
              "min      0.866522    1.183043   27.621600    0.427907   288.510638   \n",
              "25%      1.001447    1.380000   32.400000    1.203510   370.000000   \n",
              "50%      1.172734    1.760700   40.573316    1.564676   829.597377   \n",
              "75%      1.501429    2.384286   55.068571    2.166731  6381.305605   \n",
              "max      3.660200    6.382941  134.185611    6.022222  7834.590000   \n",
              "\n",
              "               st          lum  \n",
              "count  236.000000   236.000000  \n",
              "mean    26.968492  2507.493035  \n",
              "std      1.197173   632.526648  \n",
              "min     24.756813   993.521739  \n",
              "25%     26.200000  2000.000000  \n",
              "50%     26.742328  2407.789130  \n",
              "75%     27.424073  2968.629100  \n",
              "max     30.181489  4122.663636  "
            ],
            "text/html": [
              "\n",
              "  <div id=\"df-ea7e3f83-38c2-4a9d-b2be-2f09241d3257\">\n",
              "    <div class=\"colab-df-container\">\n",
              "      <div>\n",
              "<style scoped>\n",
              "    .dataframe tbody tr th:only-of-type {\n",
              "        vertical-align: middle;\n",
              "    }\n",
              "\n",
              "    .dataframe tbody tr th {\n",
              "        vertical-align: top;\n",
              "    }\n",
              "\n",
              "    .dataframe thead th {\n",
              "        text-align: right;\n",
              "    }\n",
              "</style>\n",
              "<table border=\"1\" class=\"dataframe\">\n",
              "  <thead>\n",
              "    <tr style=\"text-align: right;\">\n",
              "      <th></th>\n",
              "      <th>pm1</th>\n",
              "      <th>pm2</th>\n",
              "      <th>pm3</th>\n",
              "      <th>am</th>\n",
              "      <th>sm</th>\n",
              "      <th>st</th>\n",
              "      <th>lum</th>\n",
              "    </tr>\n",
              "  </thead>\n",
              "  <tbody>\n",
              "    <tr>\n",
              "      <th>count</th>\n",
              "      <td>236.000000</td>\n",
              "      <td>236.000000</td>\n",
              "      <td>236.000000</td>\n",
              "      <td>236.000000</td>\n",
              "      <td>236.000000</td>\n",
              "      <td>236.000000</td>\n",
              "      <td>236.000000</td>\n",
              "    </tr>\n",
              "    <tr>\n",
              "      <th>mean</th>\n",
              "      <td>1.358809</td>\n",
              "      <td>2.122035</td>\n",
              "      <td>48.881211</td>\n",
              "      <td>1.810683</td>\n",
              "      <td>3031.522160</td>\n",
              "      <td>26.968492</td>\n",
              "      <td>2507.493035</td>\n",
              "    </tr>\n",
              "    <tr>\n",
              "      <th>std</th>\n",
              "      <td>0.510713</td>\n",
              "      <td>1.027345</td>\n",
              "      <td>22.635938</td>\n",
              "      <td>0.941322</td>\n",
              "      <td>2936.436312</td>\n",
              "      <td>1.197173</td>\n",
              "      <td>632.526648</td>\n",
              "    </tr>\n",
              "    <tr>\n",
              "      <th>min</th>\n",
              "      <td>0.866522</td>\n",
              "      <td>1.183043</td>\n",
              "      <td>27.621600</td>\n",
              "      <td>0.427907</td>\n",
              "      <td>288.510638</td>\n",
              "      <td>24.756813</td>\n",
              "      <td>993.521739</td>\n",
              "    </tr>\n",
              "    <tr>\n",
              "      <th>25%</th>\n",
              "      <td>1.001447</td>\n",
              "      <td>1.380000</td>\n",
              "      <td>32.400000</td>\n",
              "      <td>1.203510</td>\n",
              "      <td>370.000000</td>\n",
              "      <td>26.200000</td>\n",
              "      <td>2000.000000</td>\n",
              "    </tr>\n",
              "    <tr>\n",
              "      <th>50%</th>\n",
              "      <td>1.172734</td>\n",
              "      <td>1.760700</td>\n",
              "      <td>40.573316</td>\n",
              "      <td>1.564676</td>\n",
              "      <td>829.597377</td>\n",
              "      <td>26.742328</td>\n",
              "      <td>2407.789130</td>\n",
              "    </tr>\n",
              "    <tr>\n",
              "      <th>75%</th>\n",
              "      <td>1.501429</td>\n",
              "      <td>2.384286</td>\n",
              "      <td>55.068571</td>\n",
              "      <td>2.166731</td>\n",
              "      <td>6381.305605</td>\n",
              "      <td>27.424073</td>\n",
              "      <td>2968.629100</td>\n",
              "    </tr>\n",
              "    <tr>\n",
              "      <th>max</th>\n",
              "      <td>3.660200</td>\n",
              "      <td>6.382941</td>\n",
              "      <td>134.185611</td>\n",
              "      <td>6.022222</td>\n",
              "      <td>7834.590000</td>\n",
              "      <td>30.181489</td>\n",
              "      <td>4122.663636</td>\n",
              "    </tr>\n",
              "  </tbody>\n",
              "</table>\n",
              "</div>\n",
              "      <button class=\"colab-df-convert\" onclick=\"convertToInteractive('df-ea7e3f83-38c2-4a9d-b2be-2f09241d3257')\"\n",
              "              title=\"Convert this dataframe to an interactive table.\"\n",
              "              style=\"display:none;\">\n",
              "        \n",
              "  <svg xmlns=\"http://www.w3.org/2000/svg\" height=\"24px\"viewBox=\"0 0 24 24\"\n",
              "       width=\"24px\">\n",
              "    <path d=\"M0 0h24v24H0V0z\" fill=\"none\"/>\n",
              "    <path d=\"M18.56 5.44l.94 2.06.94-2.06 2.06-.94-2.06-.94-.94-2.06-.94 2.06-2.06.94zm-11 1L8.5 8.5l.94-2.06 2.06-.94-2.06-.94L8.5 2.5l-.94 2.06-2.06.94zm10 10l.94 2.06.94-2.06 2.06-.94-2.06-.94-.94-2.06-.94 2.06-2.06.94z\"/><path d=\"M17.41 7.96l-1.37-1.37c-.4-.4-.92-.59-1.43-.59-.52 0-1.04.2-1.43.59L10.3 9.45l-7.72 7.72c-.78.78-.78 2.05 0 2.83L4 21.41c.39.39.9.59 1.41.59.51 0 1.02-.2 1.41-.59l7.78-7.78 2.81-2.81c.8-.78.8-2.07 0-2.86zM5.41 20L4 18.59l7.72-7.72 1.47 1.35L5.41 20z\"/>\n",
              "  </svg>\n",
              "      </button>\n",
              "      \n",
              "  <style>\n",
              "    .colab-df-container {\n",
              "      display:flex;\n",
              "      flex-wrap:wrap;\n",
              "      gap: 12px;\n",
              "    }\n",
              "\n",
              "    .colab-df-convert {\n",
              "      background-color: #E8F0FE;\n",
              "      border: none;\n",
              "      border-radius: 50%;\n",
              "      cursor: pointer;\n",
              "      display: none;\n",
              "      fill: #1967D2;\n",
              "      height: 32px;\n",
              "      padding: 0 0 0 0;\n",
              "      width: 32px;\n",
              "    }\n",
              "\n",
              "    .colab-df-convert:hover {\n",
              "      background-color: #E2EBFA;\n",
              "      box-shadow: 0px 1px 2px rgba(60, 64, 67, 0.3), 0px 1px 3px 1px rgba(60, 64, 67, 0.15);\n",
              "      fill: #174EA6;\n",
              "    }\n",
              "\n",
              "    [theme=dark] .colab-df-convert {\n",
              "      background-color: #3B4455;\n",
              "      fill: #D2E3FC;\n",
              "    }\n",
              "\n",
              "    [theme=dark] .colab-df-convert:hover {\n",
              "      background-color: #434B5C;\n",
              "      box-shadow: 0px 1px 3px 1px rgba(0, 0, 0, 0.15);\n",
              "      filter: drop-shadow(0px 1px 2px rgba(0, 0, 0, 0.3));\n",
              "      fill: #FFFFFF;\n",
              "    }\n",
              "  </style>\n",
              "\n",
              "      <script>\n",
              "        const buttonEl =\n",
              "          document.querySelector('#df-ea7e3f83-38c2-4a9d-b2be-2f09241d3257 button.colab-df-convert');\n",
              "        buttonEl.style.display =\n",
              "          google.colab.kernel.accessAllowed ? 'block' : 'none';\n",
              "\n",
              "        async function convertToInteractive(key) {\n",
              "          const element = document.querySelector('#df-ea7e3f83-38c2-4a9d-b2be-2f09241d3257');\n",
              "          const dataTable =\n",
              "            await google.colab.kernel.invokeFunction('convertToInteractive',\n",
              "                                                     [key], {});\n",
              "          if (!dataTable) return;\n",
              "\n",
              "          const docLinkHtml = 'Like what you see? Visit the ' +\n",
              "            '<a target=\"_blank\" href=https://colab.research.google.com/notebooks/data_table.ipynb>data table notebook</a>'\n",
              "            + ' to learn more about interactive tables.';\n",
              "          element.innerHTML = '';\n",
              "          dataTable['output_type'] = 'display_data';\n",
              "          await google.colab.output.renderOutput(dataTable, element);\n",
              "          const docLink = document.createElement('div');\n",
              "          docLink.innerHTML = docLinkHtml;\n",
              "          element.appendChild(docLink);\n",
              "        }\n",
              "      </script>\n",
              "    </div>\n",
              "  </div>\n",
              "  "
            ]
          },
          "metadata": {},
          "execution_count": 16
        }
      ]
    },
    {
      "cell_type": "markdown",
      "source": [
        "Create new data set for training with target shifted by 20 rows here target is what we are trying to predict "
      ],
      "metadata": {
        "id": "SrPWDnzied3R"
      }
    },
    {
      "cell_type": "code",
      "source": [
        "DATASET1 = df1_avg.copy()\n",
        "DATASET2 = df2_avg.copy()"
      ],
      "metadata": {
        "id": "7HHjkYoupmRZ"
      },
      "execution_count": 54,
      "outputs": []
    },
    {
      "cell_type": "code",
      "source": [
        "# creating a new column targets where we predict for every next 21 days\n",
        "DATASET1[\"targets\"] = DATASET1.shift(-21)[\"sm\"]\n",
        "DATASET2[\"targets\"] = DATASET2.shift(-21)[\"sm\"]"
      ],
      "metadata": {
        "id": "fx5FsAzUumXs"
      },
      "execution_count": 100,
      "outputs": []
    },
    {
      "cell_type": "markdown",
      "source": [
        ".ffill to fill NaN values with previous values since we created new column target by shifting by 20 days of soil moisture inputs."
      ],
      "metadata": {
        "id": "QtA8wL_te-SL"
      }
    },
    {
      "cell_type": "code",
      "source": [
        "DATASET1 = DATASET1.ffill()"
      ],
      "metadata": {
        "id": "mBMnEK9kv_pC"
      },
      "execution_count": 101,
      "outputs": []
    },
    {
      "cell_type": "code",
      "source": [
        "DATASET2 = DATASET2.ffill()"
      ],
      "metadata": {
        "id": "QFZnAKkrwBmg"
      },
      "execution_count": 102,
      "outputs": []
    },
    {
      "cell_type": "markdown",
      "source": [
        "\n",
        "# **MARCH MONTH PREDICTION FROM USER 1**\n"
      ],
      "metadata": {
        "id": "525wNsA2pGTZ"
      }
    },
    {
      "cell_type": "markdown",
      "source": [
        "model choosen to predict our values is RandomForestRegressor it is very powerful regressor tool it can easily handle non uniform data"
      ],
      "metadata": {
        "id": "H-z31U8MfYf6"
      }
    },
    {
      "cell_type": "code",
      "source": [
        "from sklearn.ensemble import RandomForestRegressor\n",
        "March_sensor1 = RandomForestRegressor(n_estimators =500 , random_state =0)"
      ],
      "metadata": {
        "id": "m_i5nPlqpAvW"
      },
      "execution_count": 103,
      "outputs": []
    },
    {
      "cell_type": "markdown",
      "source": [
        "code to predict march month values"
      ],
      "metadata": {
        "id": "uQE_8b7jgJbf"
      }
    },
    {
      "cell_type": "code",
      "source": [
        "#splitting data set y1 is target\n",
        "x1 = DATASET1.iloc[:,[1,2,3,4,5,6]].values\n",
        "y1 = DATASET1.iloc[:,[7]].values\n",
        "#splitting into training and testing data\n",
        "x_train_1 = x1\n",
        "y_train_1 = y1\n",
        "#splitting at 160th column for more accurate prediction for march\n",
        "x_test_1  = x1[190:]\n",
        "y_test_1  = y1[190:]\n",
        "#prediction starts here\n",
        "March_sensor1.fit(x_train_1,y_train_1)\n",
        "March_sensor1.score(x_train_1,y_train_1)\n",
        "y_pred_1 = March_sensor1.predict(x_test_1)\n",
        "#returns predictions\n",
        "y_pred_1 = y_pred_1.reshape(-1,1)\n",
        "y_test_1 = y_test_1.reshape(-1,1)\n",
        "df_test_1 = np.concatenate((y_test_1,y_pred_1), axis = 1)\n",
        "DATA_FRAME_1 = pd.DataFrame(df_test_1,columns=['data','prediction'])"
      ],
      "metadata": {
        "colab": {
          "base_uri": "https://localhost:8080/"
        },
        "id": "VKFWkyr0o-mY",
        "outputId": "f3452054-52fa-4ce8-fdd1-4740f9bbf48f"
      },
      "execution_count": 110,
      "outputs": [
        {
          "output_type": "stream",
          "name": "stderr",
          "text": [
            "<ipython-input-110-9fa221fc33d9>:11: DataConversionWarning: A column-vector y was passed when a 1d array was expected. Please change the shape of y to (n_samples,), for example using ravel().\n",
            "  March_sensor1.fit(x_train_1,y_train_1)\n"
          ]
        }
      ]
    },
    {
      "cell_type": "code",
      "source": [
        "df1_avg.corr() # returns how much each parameter is dependent on each other"
      ],
      "metadata": {
        "colab": {
          "base_uri": "https://localhost:8080/",
          "height": 269
        },
        "id": "w4phNO8_FmzD",
        "outputId": "7015085b-4a31-4b64-c9fa-8d50e97c46ee"
      },
      "execution_count": 111,
      "outputs": [
        {
          "output_type": "execute_result",
          "data": {
            "text/plain": [
              "          pm1       pm2       pm3        am        sm        st       lum\n",
              "pm1  1.000000  0.998683  0.931962  0.346567  0.772340 -0.228034  0.532000\n",
              "pm2  0.998683  1.000000  0.943116  0.353205  0.775241 -0.230008  0.540256\n",
              "pm3  0.931962  0.943116  1.000000  0.353313  0.771346 -0.215968  0.559684\n",
              "am   0.346567  0.353205  0.353313  1.000000  0.349466 -0.213603  0.471306\n",
              "sm   0.772340  0.775241  0.771346  0.349466  1.000000 -0.179420  0.591250\n",
              "st  -0.228034 -0.230008 -0.215968 -0.213603 -0.179420  1.000000 -0.330760\n",
              "lum  0.532000  0.540256  0.559684  0.471306  0.591250 -0.330760  1.000000"
            ],
            "text/html": [
              "\n",
              "  <div id=\"df-ac21cb89-1867-498d-982d-008c67521ef2\">\n",
              "    <div class=\"colab-df-container\">\n",
              "      <div>\n",
              "<style scoped>\n",
              "    .dataframe tbody tr th:only-of-type {\n",
              "        vertical-align: middle;\n",
              "    }\n",
              "\n",
              "    .dataframe tbody tr th {\n",
              "        vertical-align: top;\n",
              "    }\n",
              "\n",
              "    .dataframe thead th {\n",
              "        text-align: right;\n",
              "    }\n",
              "</style>\n",
              "<table border=\"1\" class=\"dataframe\">\n",
              "  <thead>\n",
              "    <tr style=\"text-align: right;\">\n",
              "      <th></th>\n",
              "      <th>pm1</th>\n",
              "      <th>pm2</th>\n",
              "      <th>pm3</th>\n",
              "      <th>am</th>\n",
              "      <th>sm</th>\n",
              "      <th>st</th>\n",
              "      <th>lum</th>\n",
              "    </tr>\n",
              "  </thead>\n",
              "  <tbody>\n",
              "    <tr>\n",
              "      <th>pm1</th>\n",
              "      <td>1.000000</td>\n",
              "      <td>0.998683</td>\n",
              "      <td>0.931962</td>\n",
              "      <td>0.346567</td>\n",
              "      <td>0.772340</td>\n",
              "      <td>-0.228034</td>\n",
              "      <td>0.532000</td>\n",
              "    </tr>\n",
              "    <tr>\n",
              "      <th>pm2</th>\n",
              "      <td>0.998683</td>\n",
              "      <td>1.000000</td>\n",
              "      <td>0.943116</td>\n",
              "      <td>0.353205</td>\n",
              "      <td>0.775241</td>\n",
              "      <td>-0.230008</td>\n",
              "      <td>0.540256</td>\n",
              "    </tr>\n",
              "    <tr>\n",
              "      <th>pm3</th>\n",
              "      <td>0.931962</td>\n",
              "      <td>0.943116</td>\n",
              "      <td>1.000000</td>\n",
              "      <td>0.353313</td>\n",
              "      <td>0.771346</td>\n",
              "      <td>-0.215968</td>\n",
              "      <td>0.559684</td>\n",
              "    </tr>\n",
              "    <tr>\n",
              "      <th>am</th>\n",
              "      <td>0.346567</td>\n",
              "      <td>0.353205</td>\n",
              "      <td>0.353313</td>\n",
              "      <td>1.000000</td>\n",
              "      <td>0.349466</td>\n",
              "      <td>-0.213603</td>\n",
              "      <td>0.471306</td>\n",
              "    </tr>\n",
              "    <tr>\n",
              "      <th>sm</th>\n",
              "      <td>0.772340</td>\n",
              "      <td>0.775241</td>\n",
              "      <td>0.771346</td>\n",
              "      <td>0.349466</td>\n",
              "      <td>1.000000</td>\n",
              "      <td>-0.179420</td>\n",
              "      <td>0.591250</td>\n",
              "    </tr>\n",
              "    <tr>\n",
              "      <th>st</th>\n",
              "      <td>-0.228034</td>\n",
              "      <td>-0.230008</td>\n",
              "      <td>-0.215968</td>\n",
              "      <td>-0.213603</td>\n",
              "      <td>-0.179420</td>\n",
              "      <td>1.000000</td>\n",
              "      <td>-0.330760</td>\n",
              "    </tr>\n",
              "    <tr>\n",
              "      <th>lum</th>\n",
              "      <td>0.532000</td>\n",
              "      <td>0.540256</td>\n",
              "      <td>0.559684</td>\n",
              "      <td>0.471306</td>\n",
              "      <td>0.591250</td>\n",
              "      <td>-0.330760</td>\n",
              "      <td>1.000000</td>\n",
              "    </tr>\n",
              "  </tbody>\n",
              "</table>\n",
              "</div>\n",
              "      <button class=\"colab-df-convert\" onclick=\"convertToInteractive('df-ac21cb89-1867-498d-982d-008c67521ef2')\"\n",
              "              title=\"Convert this dataframe to an interactive table.\"\n",
              "              style=\"display:none;\">\n",
              "        \n",
              "  <svg xmlns=\"http://www.w3.org/2000/svg\" height=\"24px\"viewBox=\"0 0 24 24\"\n",
              "       width=\"24px\">\n",
              "    <path d=\"M0 0h24v24H0V0z\" fill=\"none\"/>\n",
              "    <path d=\"M18.56 5.44l.94 2.06.94-2.06 2.06-.94-2.06-.94-.94-2.06-.94 2.06-2.06.94zm-11 1L8.5 8.5l.94-2.06 2.06-.94-2.06-.94L8.5 2.5l-.94 2.06-2.06.94zm10 10l.94 2.06.94-2.06 2.06-.94-2.06-.94-.94-2.06-.94 2.06-2.06.94z\"/><path d=\"M17.41 7.96l-1.37-1.37c-.4-.4-.92-.59-1.43-.59-.52 0-1.04.2-1.43.59L10.3 9.45l-7.72 7.72c-.78.78-.78 2.05 0 2.83L4 21.41c.39.39.9.59 1.41.59.51 0 1.02-.2 1.41-.59l7.78-7.78 2.81-2.81c.8-.78.8-2.07 0-2.86zM5.41 20L4 18.59l7.72-7.72 1.47 1.35L5.41 20z\"/>\n",
              "  </svg>\n",
              "      </button>\n",
              "      \n",
              "  <style>\n",
              "    .colab-df-container {\n",
              "      display:flex;\n",
              "      flex-wrap:wrap;\n",
              "      gap: 12px;\n",
              "    }\n",
              "\n",
              "    .colab-df-convert {\n",
              "      background-color: #E8F0FE;\n",
              "      border: none;\n",
              "      border-radius: 50%;\n",
              "      cursor: pointer;\n",
              "      display: none;\n",
              "      fill: #1967D2;\n",
              "      height: 32px;\n",
              "      padding: 0 0 0 0;\n",
              "      width: 32px;\n",
              "    }\n",
              "\n",
              "    .colab-df-convert:hover {\n",
              "      background-color: #E2EBFA;\n",
              "      box-shadow: 0px 1px 2px rgba(60, 64, 67, 0.3), 0px 1px 3px 1px rgba(60, 64, 67, 0.15);\n",
              "      fill: #174EA6;\n",
              "    }\n",
              "\n",
              "    [theme=dark] .colab-df-convert {\n",
              "      background-color: #3B4455;\n",
              "      fill: #D2E3FC;\n",
              "    }\n",
              "\n",
              "    [theme=dark] .colab-df-convert:hover {\n",
              "      background-color: #434B5C;\n",
              "      box-shadow: 0px 1px 3px 1px rgba(0, 0, 0, 0.15);\n",
              "      filter: drop-shadow(0px 1px 2px rgba(0, 0, 0, 0.3));\n",
              "      fill: #FFFFFF;\n",
              "    }\n",
              "  </style>\n",
              "\n",
              "      <script>\n",
              "        const buttonEl =\n",
              "          document.querySelector('#df-ac21cb89-1867-498d-982d-008c67521ef2 button.colab-df-convert');\n",
              "        buttonEl.style.display =\n",
              "          google.colab.kernel.accessAllowed ? 'block' : 'none';\n",
              "\n",
              "        async function convertToInteractive(key) {\n",
              "          const element = document.querySelector('#df-ac21cb89-1867-498d-982d-008c67521ef2');\n",
              "          const dataTable =\n",
              "            await google.colab.kernel.invokeFunction('convertToInteractive',\n",
              "                                                     [key], {});\n",
              "          if (!dataTable) return;\n",
              "\n",
              "          const docLinkHtml = 'Like what you see? Visit the ' +\n",
              "            '<a target=\"_blank\" href=https://colab.research.google.com/notebooks/data_table.ipynb>data table notebook</a>'\n",
              "            + ' to learn more about interactive tables.';\n",
              "          element.innerHTML = '';\n",
              "          dataTable['output_type'] = 'display_data';\n",
              "          await google.colab.output.renderOutput(dataTable, element);\n",
              "          const docLink = document.createElement('div');\n",
              "          docLink.innerHTML = docLinkHtml;\n",
              "          element.appendChild(docLink);\n",
              "        }\n",
              "      </script>\n",
              "    </div>\n",
              "  </div>\n",
              "  "
            ]
          },
          "metadata": {},
          "execution_count": 111
        }
      ]
    },
    {
      "cell_type": "code",
      "source": [
        "print(DATA_FRAME_1) #these are predictions and given data"
      ],
      "metadata": {
        "colab": {
          "base_uri": "https://localhost:8080/"
        },
        "id": "2QUjJtIqo8RD",
        "outputId": "a9af9da7-db6a-4052-d88c-e6b6d1003cba"
      },
      "execution_count": 112,
      "outputs": [
        {
          "output_type": "stream",
          "name": "stdout",
          "text": [
            "          data  prediction\n",
            "0   312.134615  312.026085\n",
            "1   309.938776  309.696707\n",
            "2   308.333333  308.542541\n",
            "3   307.081633  308.003402\n",
            "4   306.294118  307.113251\n",
            "5   305.081633  305.348808\n",
            "6   304.937500  304.735287\n",
            "7   304.063830  303.876015\n",
            "8   303.808511  303.475356\n",
            "9   303.346939  303.434601\n",
            "10  301.860465  301.763853\n",
            "11  301.080000  301.278088\n",
            "12  299.744681  299.322485\n",
            "13  298.574468  298.742685\n",
            "14  297.673469  297.935917\n",
            "15  296.425532  296.618549\n",
            "16  295.687500  295.221920\n",
            "17  294.480000  294.795009\n",
            "18  293.021277  293.801350\n",
            "19  292.276596  292.565415\n",
            "20  291.404255  291.139485\n",
            "21  290.416667  290.273456\n",
            "22  289.148936  289.396587\n",
            "23  288.510638  289.003286\n",
            "24  288.652174  288.694197\n",
            "25  288.652174  288.675731\n",
            "26  288.652174  288.657967\n",
            "27  288.652174  288.834746\n",
            "28  288.652174  288.652174\n",
            "29  288.652174  288.654854\n",
            "30  288.652174  288.652174\n",
            "31  288.652174  288.660104\n",
            "32  288.652174  288.652174\n",
            "33  288.652174  288.666672\n",
            "34  288.652174  288.652174\n",
            "35  288.652174  288.652174\n",
            "36  288.652174  288.652174\n",
            "37  288.652174  288.652174\n",
            "38  288.652174  288.652174\n",
            "39  288.652174  288.652174\n",
            "40  288.652174  288.662761\n",
            "41  288.652174  288.652174\n",
            "42  288.652174  288.685753\n",
            "43  288.652174  288.669240\n",
            "44  288.652174  288.652174\n",
            "45  288.652174  288.660104\n"
          ]
        }
      ]
    },
    {
      "cell_type": "markdown",
      "source": [
        "checking rate of error"
      ],
      "metadata": {
        "id": "vKTa7FbKgUVP"
      }
    },
    {
      "cell_type": "code",
      "source": [
        "#mean squared error\n",
        "from sklearn.metrics import mean_absolute_error\n",
        "mean_absolute_error(DATA_FRAME_1[\"data\"],DATA_FRAME_1[\"prediction\"])"
      ],
      "metadata": {
        "colab": {
          "base_uri": "https://localhost:8080/"
        },
        "id": "b9Dp8vLZo6WK",
        "outputId": "aeb1cc47-074f-4aac-d46b-4c41b9472441"
      },
      "execution_count": 107,
      "outputs": [
        {
          "output_type": "execute_result",
          "data": {
            "text/plain": [
              "0.9345257427164926"
            ]
          },
          "metadata": {},
          "execution_count": 107
        }
      ]
    },
    {
      "cell_type": "markdown",
      "source": [
        "our error and deviation is very low this shows our model is working good\n"
      ],
      "metadata": {
        "id": "VhOzBzTIjJ-B"
      }
    },
    {
      "cell_type": "code",
      "source": [
        "#creating new data frame with march month index\n",
        "index = pd.date_range('2023-03-1', periods=31, freq='D')\n",
        "predictions_of_march_1 = DATA_FRAME_1[\"prediction\"][45:]\n",
        "predictions_of_march_1.index = index"
      ],
      "metadata": {
        "id": "rx2s4lCl3xv4"
      },
      "execution_count": 108,
      "outputs": []
    },
    {
      "cell_type": "code",
      "source": [
        "predictions_of_march_1\n"
      ],
      "metadata": {
        "colab": {
          "base_uri": "https://localhost:8080/"
        },
        "id": "c8VMPTsU6yKe",
        "outputId": "4e911b0f-6bd3-424c-b64e-dad62b65a697"
      },
      "execution_count": 109,
      "outputs": [
        {
          "output_type": "execute_result",
          "data": {
            "text/plain": [
              "2023-03-01    296.618549\n",
              "2023-03-02    295.221920\n",
              "2023-03-03    294.795009\n",
              "2023-03-04    293.801350\n",
              "2023-03-05    292.565415\n",
              "2023-03-06    291.139485\n",
              "2023-03-07    290.273456\n",
              "2023-03-08    289.396587\n",
              "2023-03-09    289.003286\n",
              "2023-03-10    288.694197\n",
              "2023-03-11    288.675731\n",
              "2023-03-12    288.657967\n",
              "2023-03-13    288.834746\n",
              "2023-03-14    288.652174\n",
              "2023-03-15    288.654854\n",
              "2023-03-16    288.652174\n",
              "2023-03-17    288.660104\n",
              "2023-03-18    288.652174\n",
              "2023-03-19    288.666672\n",
              "2023-03-20    288.652174\n",
              "2023-03-21    288.652174\n",
              "2023-03-22    288.652174\n",
              "2023-03-23    288.652174\n",
              "2023-03-24    288.652174\n",
              "2023-03-25    288.652174\n",
              "2023-03-26    288.662761\n",
              "2023-03-27    288.652174\n",
              "2023-03-28    288.685753\n",
              "2023-03-29    288.669240\n",
              "2023-03-30    288.652174\n",
              "2023-03-31    288.660104\n",
              "Freq: D, Name: prediction, dtype: float64"
            ]
          },
          "metadata": {},
          "execution_count": 109
        }
      ]
    },
    {
      "cell_type": "code",
      "source": [
        "#a function to get soil moisture values in march\n",
        "def predict_march_s1(date_today) :\n",
        "  prediction_value_of_day_s1 = predictions_of_march_1['date_today']\n",
        "  return prediction_value_of_day_s1"
      ],
      "metadata": {
        "id": "TQWNogfiI1pY"
      },
      "execution_count": 86,
      "outputs": []
    },
    {
      "cell_type": "markdown",
      "source": [
        "the below graph shows our model prediction versus the given data which is very accurate"
      ],
      "metadata": {
        "id": "fJN-I3EAgmvw"
      }
    },
    {
      "cell_type": "code",
      "source": [
        "DATA_FRAME_1.plot(y=['data','prediction'],kind='line')\n",
        "plt.show() #this plot shows our prediction vs given data"
      ],
      "metadata": {
        "colab": {
          "base_uri": "https://localhost:8080/",
          "height": 265
        },
        "id": "9DTC5VaUESe-",
        "outputId": "fe34ccf2-a22c-48b3-f6b7-f48b002895a1"
      },
      "execution_count": 66,
      "outputs": [
        {
          "output_type": "display_data",
          "data": {
            "text/plain": [
              "<Figure size 432x288 with 1 Axes>"
            ],
            "image/png": "[encoded data removed]"
          },
          "metadata": {
            "needs_background": "light"
          }
        }
      ]
    },
    {
      "cell_type": "markdown",
      "source": [
        "dumping our model using pickle so that we can run his through web app"
      ],
      "metadata": {
        "id": "bhIDiK2mgY1z"
      }
    },
    {
      "cell_type": "code",
      "source": [
        "pickle.dump(March_sensor1, open('model1.pkl', 'wb')) #we will run this in web app"
      ],
      "metadata": {
        "id": "vwFOBIHjJ71Q"
      },
      "execution_count": 28,
      "outputs": []
    },
    {
      "cell_type": "markdown",
      "source": [
        "# **MARCH MONTH PREDICTIONS FROM USER 2**"
      ],
      "metadata": {
        "id": "WdUCCfEymdA0"
      }
    },
    {
      "cell_type": "markdown",
      "source": [
        "same prediction model and algorithm as sensor 1"
      ],
      "metadata": {
        "id": "YOqfTUSeg4kd"
      }
    },
    {
      "cell_type": "code",
      "source": [
        "from sklearn.ensemble import RandomForestRegressor\n",
        "March_sensor2 = RandomForestRegressor(n_estimators =1000 , random_state =0)"
      ],
      "metadata": {
        "id": "fZ4SBp96mcp8"
      },
      "execution_count": 29,
      "outputs": []
    },
    {
      "cell_type": "code",
      "source": [
        "df2_avg.corr()"
      ],
      "metadata": {
        "colab": {
          "base_uri": "https://localhost:8080/",
          "height": 331
        },
        "id": "y0uifDL1mjsP",
        "outputId": "4932bf5a-7def-4571-e6ef-3cdebef09488"
      },
      "execution_count": 30,
      "outputs": [
        {
          "output_type": "execute_result",
          "data": {
            "text/plain": [
              "           pm1       pm2       pm3        am        sm       lum      temp  \\\n",
              "pm1   1.000000  0.998543  0.933251 -0.631767  0.750509  0.507685  0.124643   \n",
              "pm2   0.998543  1.000000  0.945752 -0.636246  0.754894  0.520493  0.128235   \n",
              "pm3   0.933251  0.945752  1.000000 -0.638892  0.755516  0.555003  0.141894   \n",
              "am   -0.631767 -0.636246 -0.638892  1.000000 -0.806518 -0.510217 -0.184116   \n",
              "sm    0.750509  0.754894  0.755516 -0.806518  1.000000  0.603230  0.188521   \n",
              "lum   0.507685  0.520493  0.555003 -0.510217  0.603230  1.000000  0.337979   \n",
              "temp  0.124643  0.128235  0.141894 -0.184116  0.188521  0.337979  1.000000   \n",
              "humd  0.585907  0.592601  0.596707 -0.676510  0.740540  0.626127 -0.147802   \n",
              "pres -0.676146 -0.684222 -0.685141  0.635553 -0.709632 -0.575709 -0.088362   \n",
              "\n",
              "          humd      pres  \n",
              "pm1   0.585907 -0.676146  \n",
              "pm2   0.592601 -0.684222  \n",
              "pm3   0.596707 -0.685141  \n",
              "am   -0.676510  0.635553  \n",
              "sm    0.740540 -0.709632  \n",
              "lum   0.626127 -0.575709  \n",
              "temp -0.147802 -0.088362  \n",
              "humd  1.000000 -0.638921  \n",
              "pres -0.638921  1.000000  "
            ],
            "text/html": [
              "\n",
              "  <div id=\"df-bd6ac8d6-28a2-4164-91b7-d50b3b85ae77\">\n",
              "    <div class=\"colab-df-container\">\n",
              "      <div>\n",
              "<style scoped>\n",
              "    .dataframe tbody tr th:only-of-type {\n",
              "        vertical-align: middle;\n",
              "    }\n",
              "\n",
              "    .dataframe tbody tr th {\n",
              "        vertical-align: top;\n",
              "    }\n",
              "\n",
              "    .dataframe thead th {\n",
              "        text-align: right;\n",
              "    }\n",
              "</style>\n",
              "<table border=\"1\" class=\"dataframe\">\n",
              "  <thead>\n",
              "    <tr style=\"text-align: right;\">\n",
              "      <th></th>\n",
              "      <th>pm1</th>\n",
              "      <th>pm2</th>\n",
              "      <th>pm3</th>\n",
              "      <th>am</th>\n",
              "      <th>sm</th>\n",
              "      <th>lum</th>\n",
              "      <th>temp</th>\n",
              "      <th>humd</th>\n",
              "      <th>pres</th>\n",
              "    </tr>\n",
              "  </thead>\n",
              "  <tbody>\n",
              "    <tr>\n",
              "      <th>pm1</th>\n",
              "      <td>1.000000</td>\n",
              "      <td>0.998543</td>\n",
              "      <td>0.933251</td>\n",
              "      <td>-0.631767</td>\n",
              "      <td>0.750509</td>\n",
              "      <td>0.507685</td>\n",
              "      <td>0.124643</td>\n",
              "      <td>0.585907</td>\n",
              "      <td>-0.676146</td>\n",
              "    </tr>\n",
              "    <tr>\n",
              "      <th>pm2</th>\n",
              "      <td>0.998543</td>\n",
              "      <td>1.000000</td>\n",
              "      <td>0.945752</td>\n",
              "      <td>-0.636246</td>\n",
              "      <td>0.754894</td>\n",
              "      <td>0.520493</td>\n",
              "      <td>0.128235</td>\n",
              "      <td>0.592601</td>\n",
              "      <td>-0.684222</td>\n",
              "    </tr>\n",
              "    <tr>\n",
              "      <th>pm3</th>\n",
              "      <td>0.933251</td>\n",
              "      <td>0.945752</td>\n",
              "      <td>1.000000</td>\n",
              "      <td>-0.638892</td>\n",
              "      <td>0.755516</td>\n",
              "      <td>0.555003</td>\n",
              "      <td>0.141894</td>\n",
              "      <td>0.596707</td>\n",
              "      <td>-0.685141</td>\n",
              "    </tr>\n",
              "    <tr>\n",
              "      <th>am</th>\n",
              "      <td>-0.631767</td>\n",
              "      <td>-0.636246</td>\n",
              "      <td>-0.638892</td>\n",
              "      <td>1.000000</td>\n",
              "      <td>-0.806518</td>\n",
              "      <td>-0.510217</td>\n",
              "      <td>-0.184116</td>\n",
              "      <td>-0.676510</td>\n",
              "      <td>0.635553</td>\n",
              "    </tr>\n",
              "    <tr>\n",
              "      <th>sm</th>\n",
              "      <td>0.750509</td>\n",
              "      <td>0.754894</td>\n",
              "      <td>0.755516</td>\n",
              "      <td>-0.806518</td>\n",
              "      <td>1.000000</td>\n",
              "      <td>0.603230</td>\n",
              "      <td>0.188521</td>\n",
              "      <td>0.740540</td>\n",
              "      <td>-0.709632</td>\n",
              "    </tr>\n",
              "    <tr>\n",
              "      <th>lum</th>\n",
              "      <td>0.507685</td>\n",
              "      <td>0.520493</td>\n",
              "      <td>0.555003</td>\n",
              "      <td>-0.510217</td>\n",
              "      <td>0.603230</td>\n",
              "      <td>1.000000</td>\n",
              "      <td>0.337979</td>\n",
              "      <td>0.626127</td>\n",
              "      <td>-0.575709</td>\n",
              "    </tr>\n",
              "    <tr>\n",
              "      <th>temp</th>\n",
              "      <td>0.124643</td>\n",
              "      <td>0.128235</td>\n",
              "      <td>0.141894</td>\n",
              "      <td>-0.184116</td>\n",
              "      <td>0.188521</td>\n",
              "      <td>0.337979</td>\n",
              "      <td>1.000000</td>\n",
              "      <td>-0.147802</td>\n",
              "      <td>-0.088362</td>\n",
              "    </tr>\n",
              "    <tr>\n",
              "      <th>humd</th>\n",
              "      <td>0.585907</td>\n",
              "      <td>0.592601</td>\n",
              "      <td>0.596707</td>\n",
              "      <td>-0.676510</td>\n",
              "      <td>0.740540</td>\n",
              "      <td>0.626127</td>\n",
              "      <td>-0.147802</td>\n",
              "      <td>1.000000</td>\n",
              "      <td>-0.638921</td>\n",
              "    </tr>\n",
              "    <tr>\n",
              "      <th>pres</th>\n",
              "      <td>-0.676146</td>\n",
              "      <td>-0.684222</td>\n",
              "      <td>-0.685141</td>\n",
              "      <td>0.635553</td>\n",
              "      <td>-0.709632</td>\n",
              "      <td>-0.575709</td>\n",
              "      <td>-0.088362</td>\n",
              "      <td>-0.638921</td>\n",
              "      <td>1.000000</td>\n",
              "    </tr>\n",
              "  </tbody>\n",
              "</table>\n",
              "</div>\n",
              "      <button class=\"colab-df-convert\" onclick=\"convertToInteractive('df-bd6ac8d6-28a2-4164-91b7-d50b3b85ae77')\"\n",
              "              title=\"Convert this dataframe to an interactive table.\"\n",
              "              style=\"display:none;\">\n",
              "        \n",
              "  <svg xmlns=\"http://www.w3.org/2000/svg\" height=\"24px\"viewBox=\"0 0 24 24\"\n",
              "       width=\"24px\">\n",
              "    <path d=\"M0 0h24v24H0V0z\" fill=\"none\"/>\n",
              "    <path d=\"M18.56 5.44l.94 2.06.94-2.06 2.06-.94-2.06-.94-.94-2.06-.94 2.06-2.06.94zm-11 1L8.5 8.5l.94-2.06 2.06-.94-2.06-.94L8.5 2.5l-.94 2.06-2.06.94zm10 10l.94 2.06.94-2.06 2.06-.94-2.06-.94-.94-2.06-.94 2.06-2.06.94z\"/><path d=\"M17.41 7.96l-1.37-1.37c-.4-.4-.92-.59-1.43-.59-.52 0-1.04.2-1.43.59L10.3 9.45l-7.72 7.72c-.78.78-.78 2.05 0 2.83L4 21.41c.39.39.9.59 1.41.59.51 0 1.02-.2 1.41-.59l7.78-7.78 2.81-2.81c.8-.78.8-2.07 0-2.86zM5.41 20L4 18.59l7.72-7.72 1.47 1.35L5.41 20z\"/>\n",
              "  </svg>\n",
              "      </button>\n",
              "      \n",
              "  <style>\n",
              "    .colab-df-container {\n",
              "      display:flex;\n",
              "      flex-wrap:wrap;\n",
              "      gap: 12px;\n",
              "    }\n",
              "\n",
              "    .colab-df-convert {\n",
              "      background-color: #E8F0FE;\n",
              "      border: none;\n",
              "      border-radius: 50%;\n",
              "      cursor: pointer;\n",
              "      display: none;\n",
              "      fill: #1967D2;\n",
              "      height: 32px;\n",
              "      padding: 0 0 0 0;\n",
              "      width: 32px;\n",
              "    }\n",
              "\n",
              "    .colab-df-convert:hover {\n",
              "      background-color: #E2EBFA;\n",
              "      box-shadow: 0px 1px 2px rgba(60, 64, 67, 0.3), 0px 1px 3px 1px rgba(60, 64, 67, 0.15);\n",
              "      fill: #174EA6;\n",
              "    }\n",
              "\n",
              "    [theme=dark] .colab-df-convert {\n",
              "      background-color: #3B4455;\n",
              "      fill: #D2E3FC;\n",
              "    }\n",
              "\n",
              "    [theme=dark] .colab-df-convert:hover {\n",
              "      background-color: #434B5C;\n",
              "      box-shadow: 0px 1px 3px 1px rgba(0, 0, 0, 0.15);\n",
              "      filter: drop-shadow(0px 1px 2px rgba(0, 0, 0, 0.3));\n",
              "      fill: #FFFFFF;\n",
              "    }\n",
              "  </style>\n",
              "\n",
              "      <script>\n",
              "        const buttonEl =\n",
              "          document.querySelector('#df-bd6ac8d6-28a2-4164-91b7-d50b3b85ae77 button.colab-df-convert');\n",
              "        buttonEl.style.display =\n",
              "          google.colab.kernel.accessAllowed ? 'block' : 'none';\n",
              "\n",
              "        async function convertToInteractive(key) {\n",
              "          const element = document.querySelector('#df-bd6ac8d6-28a2-4164-91b7-d50b3b85ae77');\n",
              "          const dataTable =\n",
              "            await google.colab.kernel.invokeFunction('convertToInteractive',\n",
              "                                                     [key], {});\n",
              "          if (!dataTable) return;\n",
              "\n",
              "          const docLinkHtml = 'Like what you see? Visit the ' +\n",
              "            '<a target=\"_blank\" href=https://colab.research.google.com/notebooks/data_table.ipynb>data table notebook</a>'\n",
              "            + ' to learn more about interactive tables.';\n",
              "          element.innerHTML = '';\n",
              "          dataTable['output_type'] = 'display_data';\n",
              "          await google.colab.output.renderOutput(dataTable, element);\n",
              "          const docLink = document.createElement('div');\n",
              "          docLink.innerHTML = docLinkHtml;\n",
              "          element.appendChild(docLink);\n",
              "        }\n",
              "      </script>\n",
              "    </div>\n",
              "  </div>\n",
              "  "
            ]
          },
          "metadata": {},
          "execution_count": 30
        }
      ]
    },
    {
      "cell_type": "code",
      "source": [
        "#prediction model\n",
        "x2 = DATASET2.iloc[:,[1,2,3,4,5,6,7,8]].values\n",
        "y2 = DATASET2.iloc[:,[9]].values\n",
        "x_train_2 = x2\n",
        "y_train_2 = y2\n",
        "x_test_2  = x2[190:]\n",
        "y_test_2  = y2[190:]\n",
        "March_sensor2.fit(x_train_2,y_train_2)\n",
        "March_sensor2.score(x_train_2,y_train_2)\n",
        "y_pred_2 = March_sensor2.predict(x_test_2)\n",
        "y_pred_2 = y_pred_2.reshape(-1,1)\n",
        "y_test_2_2 = y_test_2.reshape(-1,1)\n",
        "df_test_2 = np.concatenate((y_test_2,y_pred_2), axis = 1)\n",
        "DATA_FRAME_2 = pd.DataFrame(df_test_2,columns=['data','prediction'])"
      ],
      "metadata": {
        "colab": {
          "base_uri": "https://localhost:8080/"
        },
        "id": "yL5K1YhrmmNM",
        "outputId": "e5ffb5c3-be8c-4188-c37a-236ead5ea25d"
      },
      "execution_count": 116,
      "outputs": [
        {
          "output_type": "stream",
          "name": "stderr",
          "text": [
            "<ipython-input-116-381ab615a44f>:8: DataConversionWarning: A column-vector y was passed when a 1d array was expected. Please change the shape of y to (n_samples,), for example using ravel().\n",
            "  March_sensor2.fit(x_train_2,y_train_2)\n"
          ]
        }
      ]
    },
    {
      "cell_type": "code",
      "source": [
        "print(DATA_FRAME_2)"
      ],
      "metadata": {
        "colab": {
          "base_uri": "https://localhost:8080/"
        },
        "id": "eR6QoUtkmssh",
        "outputId": "d83da508-a9f3-4a37-ca7e-a725a015d6a0"
      },
      "execution_count": 117,
      "outputs": [
        {
          "output_type": "stream",
          "name": "stdout",
          "text": [
            "          data  prediction\n",
            "0   335.872727  334.962712\n",
            "1   333.890909  334.149808\n",
            "2   332.946429  332.833853\n",
            "3   332.327273  332.357785\n",
            "4   332.163636  332.293723\n",
            "5   332.607143  332.618929\n",
            "6   332.800000  333.021318\n",
            "7   333.574074  333.436666\n",
            "8   333.547170  333.359203\n",
            "9   333.320755  332.949825\n",
            "10  332.500000  331.258209\n",
            "11  331.943396  331.772904\n",
            "12  331.603774  331.670503\n",
            "13  331.037037  331.228841\n",
            "14  330.679245  330.645654\n",
            "15  330.132075  330.098907\n",
            "16  330.074074  329.914032\n",
            "17  329.132075  329.364132\n",
            "18  328.509804  328.791081\n",
            "19  328.333333  328.484500\n",
            "20  328.196078  328.247854\n",
            "21  327.980769  327.675391\n",
            "22  327.039216  327.015432\n",
            "23  327.076923  327.000617\n",
            "24  326.652174  326.757952\n",
            "25  326.652174  326.715531\n",
            "26  326.652174  326.840942\n",
            "27  326.652174  326.845949\n",
            "28  326.652174  326.827199\n",
            "29  326.652174  326.693596\n",
            "30  326.652174  326.731936\n",
            "31  326.652174  326.652174\n",
            "32  326.652174  326.652174\n",
            "33  326.652174  326.660292\n",
            "34  326.652174  326.652174\n",
            "35  326.652174  326.660292\n",
            "36  326.652174  326.652174\n",
            "37  326.652174  326.660982\n",
            "38  326.652174  326.657894\n",
            "39  326.652174  326.652174\n",
            "40  326.652174  326.652174\n",
            "41  326.652174  326.660292\n",
            "42  326.652174  326.659438\n",
            "43  326.652174  326.657914\n",
            "44  326.652174  326.652174\n",
            "45  326.652174  326.687986\n"
          ]
        }
      ]
    },
    {
      "cell_type": "code",
      "source": [
        "from sklearn.metrics import mean_absolute_error\n",
        "mean_absolute_error(DATA_FRAME_2[\"data\"],DATA_FRAME_2[\"prediction\"])#error rate"
      ],
      "metadata": {
        "colab": {
          "base_uri": "https://localhost:8080/"
        },
        "id": "5mBg0TZ0mvHx",
        "outputId": "ba674036-9411-43ac-f730-01e9116d6a5c"
      },
      "execution_count": 118,
      "outputs": [
        {
          "output_type": "execute_result",
          "data": {
            "text/plain": [
              "0.13753140940696704"
            ]
          },
          "metadata": {},
          "execution_count": 118
        }
      ]
    },
    {
      "cell_type": "code",
      "source": [
        "DATA_FRAME_2.plot(y=['data','prediction'],kind='line')\n",
        "plt.show()"
      ],
      "metadata": {
        "colab": {
          "base_uri": "https://localhost:8080/",
          "height": 265
        },
        "id": "APgLXZO5Pkp6",
        "outputId": "8e75d3d3-8fff-4a97-fbab-039578646e10"
      },
      "execution_count": 69,
      "outputs": [
        {
          "output_type": "display_data",
          "data": {
            "text/plain": [
              "<Figure size 432x288 with 1 Axes>"
            ],
            "image/png": "[encoded data removed]"
          },
          "metadata": {
            "needs_background": "light"
          }
        }
      ]
    },
    {
      "cell_type": "code",
      "source": [
        "index = pd.date_range('2023-03-1', periods=31, freq='D')\n",
        "predictions_of_march_2 = DATA_FRAME_2[\"prediction\"][185:]\n",
        "predictions_of_march_2.index = index"
      ],
      "metadata": {
        "id": "WBb9dbkDCLsw"
      },
      "execution_count": 34,
      "outputs": []
    },
    {
      "cell_type": "code",
      "source": [
        "predictions_of_march_2"
      ],
      "metadata": {
        "colab": {
          "base_uri": "https://localhost:8080/"
        },
        "id": "MVE1mODICTj1",
        "outputId": "3114757a-1077-480f-9bcc-4c20580be789"
      },
      "execution_count": 115,
      "outputs": [
        {
          "output_type": "execute_result",
          "data": {
            "text/plain": [
              "2023-03-01    330.492846\n",
              "2023-03-02    330.237573\n",
              "2023-03-03    330.093338\n",
              "2023-03-04    329.457583\n",
              "2023-03-05    328.793763\n",
              "2023-03-06    328.453099\n",
              "2023-03-07    328.151098\n",
              "2023-03-08    327.628991\n",
              "2023-03-09    327.044707\n",
              "2023-03-10    327.027733\n",
              "2023-03-11    326.763249\n",
              "2023-03-12    326.813478\n",
              "2023-03-13    326.841818\n",
              "2023-03-14    326.819327\n",
              "2023-03-15    326.705549\n",
              "2023-03-16    326.733865\n",
              "2023-03-17    326.652986\n",
              "2023-03-18    326.652174\n",
              "2023-03-19    326.655218\n",
              "2023-03-20    326.652174\n",
              "2023-03-21    326.655218\n",
              "2023-03-22    326.652174\n",
              "2023-03-23    326.654109\n",
              "2023-03-24    326.654109\n",
              "2023-03-25    326.652174\n",
              "2023-03-26    326.652174\n",
              "2023-03-27    326.655218\n",
              "2023-03-28    326.654109\n",
              "2023-03-29    326.652561\n",
              "2023-03-30    326.652174\n",
              "2023-03-31    326.733312\n",
              "Freq: D, Name: prediction, dtype: float64"
            ]
          },
          "metadata": {},
          "execution_count": 115
        }
      ]
    },
    {
      "cell_type": "code",
      "source": [
        "pickle.dump(March_sensor2, open('model2.pkl', 'wb'))"
      ],
      "metadata": {
        "id": "bozHllf_1sIg"
      },
      "execution_count": 113,
      "outputs": []
    },
    {
      "cell_type": "markdown",
      "source": [
        "# **MODEL TO PREDICT SOIL MOISTURE FOR GIVEN PARAMETERS OF USER 1**"
      ],
      "metadata": {
        "id": "NFWghZL6qeoL"
      }
    },
    {
      "cell_type": "markdown",
      "source": [
        "this model gives soil moisture at any time if you have parameters"
      ],
      "metadata": {
        "id": "oofzgkngmn2Z"
      }
    },
    {
      "cell_type": "markdown",
      "source": [
        "these are just predictiors models which can predict soil moistureif give parameters"
      ],
      "metadata": {
        "id": "iIDBGfRe9pw0"
      }
    },
    {
      "cell_type": "code",
      "source": [
        "from sklearn.ensemble import RandomForestRegressor\n",
        "input_wise_1 = RandomForestRegressor(n_estimators =100 , random_state =0)"
      ],
      "metadata": {
        "id": "DBm634O5qd4o"
      },
      "execution_count": 37,
      "outputs": []
    },
    {
      "cell_type": "code",
      "source": [
        "x1_input = df1_avg.iloc[:,[0,1,2,3,5,6]].values\n",
        "y1_output = df1_avg.iloc[:,[4]].values\n",
        "x_train_in_1 = x1_input\n",
        "y_train_out_1 = y1_output\n",
        "x_test_in_1  = x1_input[20:]\n",
        "y_test_out_1  = y1_output[20:]\n",
        "input_wise_1.fit(x_train_in_1,y_train_out_1)\n",
        "input_wise_1.score(x_train_in_1,y_train_out_1)\n",
        "y_pred_out_1 = input_wise_1.predict(x_test_in_1)\n",
        "y_pred_out_1 = y_pred_out_1.reshape(-1,1)\n",
        "y_test_out_1 = y_test_out_1.reshape(-1,1)\n",
        "print(y_test_out_1.shape)\n",
        "print(y_pred_out_1.shape)\n",
        "df_test = np.concatenate((y_test_out_1,y_pred_out_1), axis = 1)\n",
        "DATA_FRAME_OUT_1 = pd.DataFrame(df_test,columns=['data','prediction'])"
      ],
      "metadata": {
        "colab": {
          "base_uri": "https://localhost:8080/"
        },
        "id": "xA4E-3dMYv1C",
        "outputId": "72f22e0c-184f-4892-c049-57ccebf0e78e"
      },
      "execution_count": 38,
      "outputs": [
        {
          "output_type": "stream",
          "name": "stderr",
          "text": [
            "<ipython-input-38-aa4d4d5b5419>:7: DataConversionWarning: A column-vector y was passed when a 1d array was expected. Please change the shape of y to (n_samples,), for example using ravel().\n",
            "  input_wise_1.fit(x_train_in_1,y_train_out_1)\n"
          ]
        },
        {
          "output_type": "stream",
          "name": "stdout",
          "text": [
            "(216, 1)\n",
            "(216, 1)\n"
          ]
        }
      ]
    },
    {
      "cell_type": "code",
      "source": [
        "print(DATA_FRAME_OUT_1)"
      ],
      "metadata": {
        "colab": {
          "base_uri": "https://localhost:8080/"
        },
        "id": "PAJPri7Trltd",
        "outputId": "c3df7c5b-e220-49d8-f531-018dbfc8d2c4"
      },
      "execution_count": 39,
      "outputs": [
        {
          "output_type": "stream",
          "name": "stdout",
          "text": [
            "            data   prediction\n",
            "0    6677.156250  6683.780207\n",
            "1    6694.366667  6685.586421\n",
            "2    6702.062500  6688.655574\n",
            "3    6696.288462  6686.806690\n",
            "4    6678.006944  6663.282959\n",
            "..           ...          ...\n",
            "211   291.404255   291.110663\n",
            "212   290.416667   290.700228\n",
            "213   289.148936   290.562771\n",
            "214   288.510638   289.813463\n",
            "215   288.652174   290.845783\n",
            "\n",
            "[216 rows x 2 columns]\n"
          ]
        }
      ]
    },
    {
      "cell_type": "code",
      "source": [
        "from sklearn.metrics import mean_absolute_error\n",
        "mean_absolute_error(DATA_FRAME_OUT_1[\"data\"], DATA_FRAME_OUT_1[\"prediction\"])"
      ],
      "metadata": {
        "colab": {
          "base_uri": "https://localhost:8080/"
        },
        "id": "eqZHWbwwroNB",
        "outputId": "27e2c18a-c7a3-4052-b832-9386d10c12ee"
      },
      "execution_count": 40,
      "outputs": [
        {
          "output_type": "execute_result",
          "data": {
            "text/plain": [
              "53.0227554717817"
            ]
          },
          "metadata": {},
          "execution_count": 40
        }
      ]
    },
    {
      "cell_type": "code",
      "source": [
        "pickle.dump(input_wise_1, open('model3.pkl', 'wb'))"
      ],
      "metadata": {
        "id": "unDUc2-dFlfo"
      },
      "execution_count": 41,
      "outputs": []
    },
    {
      "cell_type": "markdown",
      "source": [
        "# **MODEL TO PREDICT SOIL MOISTURE FOR GIVEN INPUTS OF USER 2**"
      ],
      "metadata": {
        "id": "YWvgi35GqfJn"
      }
    },
    {
      "cell_type": "code",
      "source": [
        "from sklearn.ensemble import RandomForestRegressor\n",
        "input_wise_2 = RandomForestRegressor(n_estimators =200 , random_state =0)"
      ],
      "metadata": {
        "id": "iVE-dZwdqfjc"
      },
      "execution_count": 42,
      "outputs": []
    },
    {
      "cell_type": "code",
      "source": [
        "x2_input = df2_avg.iloc[:,[1,2,3,5,6]].values\n",
        "y2_output = df2_avg.iloc[:,[4]].values\n",
        "x_train_in_2 = x2_input\n",
        "y_train_out_2 = y2_output\n",
        "x_test_in_2  = x2_input[20:]\n",
        "y_test_out_2  = y2_output[20:]\n",
        "input_wise_2.fit(x_train_in_2,y_train_out_2)\n",
        "input_wise_2.score(x_train_in_2,y_train_out_2)\n",
        "y_pred_out_2 = input_wise_2.predict(x_test_in_2)\n",
        "y_pred_out_2 = y_pred_out_2.reshape(-1,1)\n",
        "y_test_out_2 = y_test_out_2.reshape(-1,1)\n",
        "print(y_test_out_2.shape)\n",
        "print(y_pred_out_2.shape)\n",
        "df_test = np.concatenate((y_test_out_2,y_pred_out_2), axis = 1)\n",
        "DATA_FRAME_OUT_2 = pd.DataFrame(df_test,columns=['data','prediction'])"
      ],
      "metadata": {
        "colab": {
          "base_uri": "https://localhost:8080/"
        },
        "id": "vGBRNKW2rsOE",
        "outputId": "f9f3dc45-b3be-4d0e-ae55-ad9f2d86331b"
      },
      "execution_count": 43,
      "outputs": [
        {
          "output_type": "stream",
          "name": "stderr",
          "text": [
            "<ipython-input-43-2cdc980c40e6>:7: DataConversionWarning: A column-vector y was passed when a 1d array was expected. Please change the shape of y to (n_samples,), for example using ravel().\n",
            "  input_wise_2.fit(x_train_in_2,y_train_out_2)\n"
          ]
        },
        {
          "output_type": "stream",
          "name": "stdout",
          "text": [
            "(216, 1)\n",
            "(216, 1)\n"
          ]
        }
      ]
    },
    {
      "cell_type": "code",
      "source": [
        "print(DATA_FRAME_OUT_2)"
      ],
      "metadata": {
        "colab": {
          "base_uri": "https://localhost:8080/"
        },
        "id": "4YDrVCH2rwBY",
        "outputId": "76d590c6-4069-4ead-ce98-4753ba477758"
      },
      "execution_count": 44,
      "outputs": [
        {
          "output_type": "stream",
          "name": "stdout",
          "text": [
            "            data   prediction\n",
            "0    7024.506250  6962.722944\n",
            "1    7024.829114  7018.221982\n",
            "2    6947.069182  7010.098006\n",
            "3    7127.662069  7074.894294\n",
            "4    7042.479167  7027.002076\n",
            "..           ...          ...\n",
            "211   328.196078   328.315326\n",
            "212   327.980769   327.812087\n",
            "213   327.039216   327.381606\n",
            "214   327.076923   327.532492\n",
            "215   326.652174   328.754822\n",
            "\n",
            "[216 rows x 2 columns]\n"
          ]
        }
      ]
    },
    {
      "cell_type": "code",
      "source": [
        "from sklearn.metrics import mean_absolute_error\n",
        "mean_absolute_error(DATA_FRAME_OUT_2[\"data\"],DATA_FRAME_OUT_2[\"prediction\"])"
      ],
      "metadata": {
        "colab": {
          "base_uri": "https://localhost:8080/"
        },
        "id": "N_xhRUAbrv98",
        "outputId": "8c32d5ef-f781-4310-a27b-a9d65920e41c"
      },
      "execution_count": 45,
      "outputs": [
        {
          "output_type": "execute_result",
          "data": {
            "text/plain": [
              "76.2450111382189"
            ]
          },
          "metadata": {},
          "execution_count": 45
        }
      ]
    },
    {
      "cell_type": "code",
      "source": [
        "pickle.dump(input_wise_2, open('model4.pkl', 'wb'))"
      ],
      "metadata": {
        "id": "mekUmxOB2EDF"
      },
      "execution_count": 46,
      "outputs": []
    },
    {
      "cell_type": "markdown",
      "source": [
        "# **BACK TESTING OUR MODEL FOR ERROR CORRECTION**"
      ],
      "metadata": {
        "id": "ZeuEs6FFm0LC"
      }
    },
    {
      "cell_type": "code",
      "source": [
        "#ignore this part"
      ],
      "metadata": {
        "id": "qRZ1FEIrD-SK"
      },
      "execution_count": 51,
      "outputs": []
    },
    {
      "cell_type": "code",
      "source": [
        "predictiors = df2_avg.columns[~df2_avg.columns.isin([\"target\"])]"
      ],
      "metadata": {
        "id": "mAk64YhkbS03"
      },
      "execution_count": 47,
      "outputs": []
    },
    {
      "cell_type": "code",
      "source": [
        "def backtest(df_avg,model,predictors,start = 1,step = 2):\n",
        "  further_preds = []\n",
        "  for i in range(start,df2_avg.shape[0],step):\n",
        "    train_data = df2_avg.iloc[:i,:]\n",
        "    test_data  = df2_avg.iloc[i:(i+step),:]\n",
        "    model.fit(train_data[predictors],train_data[\"target\"])\n",
        "    preds = model.predict(test_data[predictors])\n",
        "    preds = pd.Series(preds , index=test_data.index)\n",
        "    combined = pd.concat([test_data[\"target\"],preds],axis =1)\n",
        "    combined.columns = [\"actual\",\"prediction\"]\n",
        "    further_preds.append(combined)\n",
        "  return pd.concat(further_preds)"
      ],
      "metadata": {
        "id": "2WpIZ-ivc9TT"
      },
      "execution_count": 48,
      "outputs": []
    }
  ]
}